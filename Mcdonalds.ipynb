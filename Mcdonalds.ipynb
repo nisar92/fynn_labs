{
 "cells": [
  {
   "cell_type": "code",
   "execution_count": 1,
   "id": "e67481f7",
   "metadata": {
    "_cell_guid": "b1076dfc-b9ad-4769-8c92-a6c4dae69d19",
    "_uuid": "8f2839f25d086af736a60e9eeb907d3b93b6e0e5",
    "execution": {
     "iopub.execute_input": "2022-10-26T09:07:11.329709Z",
     "iopub.status.busy": "2022-10-26T09:07:11.329203Z",
     "iopub.status.idle": "2022-10-26T09:07:11.349771Z",
     "shell.execute_reply": "2022-10-26T09:07:11.348442Z"
    },
    "papermill": {
     "duration": 0.033378,
     "end_time": "2022-10-26T09:07:11.353174",
     "exception": false,
     "start_time": "2022-10-26T09:07:11.319796",
     "status": "completed"
    },
    "tags": []
   },
   "outputs": [
    {
     "name": "stdout",
     "output_type": "stream",
     "text": [
      "/kaggle/input/mcdonalds/mcdonalds.csv\n"
     ]
    }
   ],
   "source": [
    "# This Python 3 environment comes with many helpful analytics libraries installed\n",
    "# It is defined by the kaggle/python Docker image: https://github.com/kaggle/docker-python\n",
    "# For example, here's several helpful packages to load\n",
    "\n",
    "import numpy as np # linear algebra\n",
    "import pandas as pd # data processing, CSV file I/O (e.g. pd.read_csv)\n",
    "\n",
    "# Input data files are available in the read-only \"../input/\" directory\n",
    "# For example, running this (by clicking run or pressing Shift+Enter) will list all files under the input directory\n",
    "\n",
    "import os\n",
    "for dirname, _, filenames in os.walk('/kaggle/input'):\n",
    "    for filename in filenames:\n",
    "        print(os.path.join(dirname, filename))\n",
    "\n",
    "# You can write up to 20GB to the current directory (/kaggle/working/) that gets preserved as output when you create a version using \"Save & Run All\" \n",
    "# You can also write temporary files to /kaggle/temp/, but they won't be saved outside of the current session"
   ]
  },
  {
   "cell_type": "code",
   "execution_count": 2,
   "id": "695bc3b7",
   "metadata": {
    "execution": {
     "iopub.execute_input": "2022-10-26T09:07:11.370288Z",
     "iopub.status.busy": "2022-10-26T09:07:11.369208Z",
     "iopub.status.idle": "2022-10-26T09:07:11.394282Z",
     "shell.execute_reply": "2022-10-26T09:07:11.393252Z"
    },
    "papermill": {
     "duration": 0.035985,
     "end_time": "2022-10-26T09:07:11.396939",
     "exception": false,
     "start_time": "2022-10-26T09:07:11.360954",
     "status": "completed"
    },
    "tags": []
   },
   "outputs": [],
   "source": [
    "df=pd.read_csv('../input/mcdonalds/mcdonalds.csv')"
   ]
  },
  {
   "cell_type": "code",
   "execution_count": 3,
   "id": "84e1a6a3",
   "metadata": {
    "execution": {
     "iopub.execute_input": "2022-10-26T09:07:11.411949Z",
     "iopub.status.busy": "2022-10-26T09:07:11.411548Z",
     "iopub.status.idle": "2022-10-26T09:07:11.420128Z",
     "shell.execute_reply": "2022-10-26T09:07:11.419174Z"
    },
    "papermill": {
     "duration": 0.019214,
     "end_time": "2022-10-26T09:07:11.422716",
     "exception": false,
     "start_time": "2022-10-26T09:07:11.403502",
     "status": "completed"
    },
    "tags": []
   },
   "outputs": [
    {
     "data": {
      "text/plain": [
       "Index(['yummy', 'convenient', 'spicy', 'fattening', 'greasy', 'fast', 'cheap',\n",
       "       'tasty', 'expensive', 'healthy', 'disgusting', 'Like', 'Age',\n",
       "       'VisitFrequency', 'Gender'],\n",
       "      dtype='object')"
      ]
     },
     "execution_count": 3,
     "metadata": {},
     "output_type": "execute_result"
    }
   ],
   "source": [
    "df.columns"
   ]
  },
  {
   "cell_type": "code",
   "execution_count": 4,
   "id": "a72e736e",
   "metadata": {
    "execution": {
     "iopub.execute_input": "2022-10-26T09:07:11.439329Z",
     "iopub.status.busy": "2022-10-26T09:07:11.438294Z",
     "iopub.status.idle": "2022-10-26T09:07:11.473345Z",
     "shell.execute_reply": "2022-10-26T09:07:11.471499Z"
    },
    "papermill": {
     "duration": 0.046572,
     "end_time": "2022-10-26T09:07:11.476590",
     "exception": false,
     "start_time": "2022-10-26T09:07:11.430018",
     "status": "completed"
    },
    "tags": []
   },
   "outputs": [
    {
     "name": "stdout",
     "output_type": "stream",
     "text": [
      "<class 'pandas.core.frame.DataFrame'>\n",
      "RangeIndex: 1453 entries, 0 to 1452\n",
      "Data columns (total 15 columns):\n",
      " #   Column          Non-Null Count  Dtype \n",
      "---  ------          --------------  ----- \n",
      " 0   yummy           1453 non-null   object\n",
      " 1   convenient      1453 non-null   object\n",
      " 2   spicy           1453 non-null   object\n",
      " 3   fattening       1453 non-null   object\n",
      " 4   greasy          1453 non-null   object\n",
      " 5   fast            1453 non-null   object\n",
      " 6   cheap           1453 non-null   object\n",
      " 7   tasty           1453 non-null   object\n",
      " 8   expensive       1453 non-null   object\n",
      " 9   healthy         1453 non-null   object\n",
      " 10  disgusting      1453 non-null   object\n",
      " 11  Like            1453 non-null   object\n",
      " 12  Age             1453 non-null   int64 \n",
      " 13  VisitFrequency  1453 non-null   object\n",
      " 14  Gender          1453 non-null   object\n",
      "dtypes: int64(1), object(14)\n",
      "memory usage: 170.4+ KB\n"
     ]
    }
   ],
   "source": [
    "df.info()"
   ]
  },
  {
   "cell_type": "code",
   "execution_count": 5,
   "id": "2c1eeb34",
   "metadata": {
    "execution": {
     "iopub.execute_input": "2022-10-26T09:07:11.492859Z",
     "iopub.status.busy": "2022-10-26T09:07:11.492470Z",
     "iopub.status.idle": "2022-10-26T09:07:11.521408Z",
     "shell.execute_reply": "2022-10-26T09:07:11.520428Z"
    },
    "papermill": {
     "duration": 0.039432,
     "end_time": "2022-10-26T09:07:11.523635",
     "exception": false,
     "start_time": "2022-10-26T09:07:11.484203",
     "status": "completed"
    },
    "tags": []
   },
   "outputs": [
    {
     "data": {
      "text/html": [
       "<div>\n",
       "<style scoped>\n",
       "    .dataframe tbody tr th:only-of-type {\n",
       "        vertical-align: middle;\n",
       "    }\n",
       "\n",
       "    .dataframe tbody tr th {\n",
       "        vertical-align: top;\n",
       "    }\n",
       "\n",
       "    .dataframe thead th {\n",
       "        text-align: right;\n",
       "    }\n",
       "</style>\n",
       "<table border=\"1\" class=\"dataframe\">\n",
       "  <thead>\n",
       "    <tr style=\"text-align: right;\">\n",
       "      <th></th>\n",
       "      <th>yummy</th>\n",
       "      <th>convenient</th>\n",
       "      <th>spicy</th>\n",
       "      <th>fattening</th>\n",
       "      <th>greasy</th>\n",
       "      <th>fast</th>\n",
       "      <th>cheap</th>\n",
       "      <th>tasty</th>\n",
       "      <th>expensive</th>\n",
       "      <th>healthy</th>\n",
       "      <th>disgusting</th>\n",
       "      <th>Like</th>\n",
       "      <th>Age</th>\n",
       "      <th>VisitFrequency</th>\n",
       "      <th>Gender</th>\n",
       "    </tr>\n",
       "  </thead>\n",
       "  <tbody>\n",
       "    <tr>\n",
       "      <th>0</th>\n",
       "      <td>No</td>\n",
       "      <td>Yes</td>\n",
       "      <td>No</td>\n",
       "      <td>Yes</td>\n",
       "      <td>No</td>\n",
       "      <td>Yes</td>\n",
       "      <td>Yes</td>\n",
       "      <td>No</td>\n",
       "      <td>Yes</td>\n",
       "      <td>No</td>\n",
       "      <td>No</td>\n",
       "      <td>-3</td>\n",
       "      <td>61</td>\n",
       "      <td>Every three months</td>\n",
       "      <td>Female</td>\n",
       "    </tr>\n",
       "    <tr>\n",
       "      <th>1</th>\n",
       "      <td>Yes</td>\n",
       "      <td>Yes</td>\n",
       "      <td>No</td>\n",
       "      <td>Yes</td>\n",
       "      <td>Yes</td>\n",
       "      <td>Yes</td>\n",
       "      <td>Yes</td>\n",
       "      <td>Yes</td>\n",
       "      <td>Yes</td>\n",
       "      <td>No</td>\n",
       "      <td>No</td>\n",
       "      <td>+2</td>\n",
       "      <td>51</td>\n",
       "      <td>Every three months</td>\n",
       "      <td>Female</td>\n",
       "    </tr>\n",
       "    <tr>\n",
       "      <th>2</th>\n",
       "      <td>No</td>\n",
       "      <td>Yes</td>\n",
       "      <td>Yes</td>\n",
       "      <td>Yes</td>\n",
       "      <td>Yes</td>\n",
       "      <td>Yes</td>\n",
       "      <td>No</td>\n",
       "      <td>Yes</td>\n",
       "      <td>Yes</td>\n",
       "      <td>Yes</td>\n",
       "      <td>No</td>\n",
       "      <td>+1</td>\n",
       "      <td>62</td>\n",
       "      <td>Every three months</td>\n",
       "      <td>Female</td>\n",
       "    </tr>\n",
       "    <tr>\n",
       "      <th>3</th>\n",
       "      <td>Yes</td>\n",
       "      <td>Yes</td>\n",
       "      <td>No</td>\n",
       "      <td>Yes</td>\n",
       "      <td>Yes</td>\n",
       "      <td>Yes</td>\n",
       "      <td>Yes</td>\n",
       "      <td>Yes</td>\n",
       "      <td>No</td>\n",
       "      <td>No</td>\n",
       "      <td>Yes</td>\n",
       "      <td>+4</td>\n",
       "      <td>69</td>\n",
       "      <td>Once a week</td>\n",
       "      <td>Female</td>\n",
       "    </tr>\n",
       "    <tr>\n",
       "      <th>4</th>\n",
       "      <td>No</td>\n",
       "      <td>Yes</td>\n",
       "      <td>No</td>\n",
       "      <td>Yes</td>\n",
       "      <td>Yes</td>\n",
       "      <td>Yes</td>\n",
       "      <td>Yes</td>\n",
       "      <td>No</td>\n",
       "      <td>No</td>\n",
       "      <td>Yes</td>\n",
       "      <td>No</td>\n",
       "      <td>+2</td>\n",
       "      <td>49</td>\n",
       "      <td>Once a month</td>\n",
       "      <td>Male</td>\n",
       "    </tr>\n",
       "  </tbody>\n",
       "</table>\n",
       "</div>"
      ],
      "text/plain": [
       "  yummy convenient spicy fattening greasy fast cheap tasty expensive healthy  \\\n",
       "0    No        Yes    No       Yes     No  Yes   Yes    No       Yes      No   \n",
       "1   Yes        Yes    No       Yes    Yes  Yes   Yes   Yes       Yes      No   \n",
       "2    No        Yes   Yes       Yes    Yes  Yes    No   Yes       Yes     Yes   \n",
       "3   Yes        Yes    No       Yes    Yes  Yes   Yes   Yes        No      No   \n",
       "4    No        Yes    No       Yes    Yes  Yes   Yes    No        No     Yes   \n",
       "\n",
       "  disgusting Like  Age      VisitFrequency  Gender  \n",
       "0         No   -3   61  Every three months  Female  \n",
       "1         No   +2   51  Every three months  Female  \n",
       "2         No   +1   62  Every three months  Female  \n",
       "3        Yes   +4   69         Once a week  Female  \n",
       "4         No   +2   49        Once a month    Male  "
      ]
     },
     "execution_count": 5,
     "metadata": {},
     "output_type": "execute_result"
    }
   ],
   "source": [
    "df.head()"
   ]
  },
  {
   "cell_type": "code",
   "execution_count": 6,
   "id": "8fd1d920",
   "metadata": {
    "execution": {
     "iopub.execute_input": "2022-10-26T09:07:11.540797Z",
     "iopub.status.busy": "2022-10-26T09:07:11.539431Z",
     "iopub.status.idle": "2022-10-26T09:07:11.562761Z",
     "shell.execute_reply": "2022-10-26T09:07:11.561578Z"
    },
    "papermill": {
     "duration": 0.035238,
     "end_time": "2022-10-26T09:07:11.565779",
     "exception": false,
     "start_time": "2022-10-26T09:07:11.530541",
     "status": "completed"
    },
    "tags": []
   },
   "outputs": [],
   "source": [
    "binary=['yummy', 'convenient', 'spicy', 'fattening', 'greasy', 'fast', 'cheap',\n",
    "       'tasty', 'expensive', 'healthy', 'disgusting']\n",
    "df[binary] = df[binary].apply(lambda x:x.map({'Yes':1, 'No':0}))"
   ]
  },
  {
   "cell_type": "code",
   "execution_count": 7,
   "id": "84229c77",
   "metadata": {
    "execution": {
     "iopub.execute_input": "2022-10-26T09:07:11.581942Z",
     "iopub.status.busy": "2022-10-26T09:07:11.581030Z",
     "iopub.status.idle": "2022-10-26T09:07:11.596839Z",
     "shell.execute_reply": "2022-10-26T09:07:11.595472Z"
    },
    "papermill": {
     "duration": 0.026749,
     "end_time": "2022-10-26T09:07:11.599586",
     "exception": false,
     "start_time": "2022-10-26T09:07:11.572837",
     "status": "completed"
    },
    "tags": []
   },
   "outputs": [],
   "source": [
    "def discover(df, target=''):\n",
    "    \n",
    "    #Creating Seris with Feature Types, removing the target feature\n",
    "    if target != '':\n",
    "        df1 = df.drop(target, axis = 1, inplace = False)\n",
    "    else:\n",
    "        df1 = df\n",
    "\n",
    "    #listing feature type\n",
    "    feature_type = []\n",
    "    for j in range(len(df1.columns)):\n",
    "        if df1[df1.columns[j]].nunique()==2:\n",
    "            feature_type.append('Binary')\n",
    "        elif df1[df1.columns[j]].dtypes != 'O' and df1[df1.columns[j]].nunique()>10:\n",
    "            feature_type.append('Numerical')\n",
    "        elif df1[df1.columns[j]].dtypes != 'O' and df1[df1.columns[j]].nunique()<10:\n",
    "            feature_type.append('Ordinal')\n",
    "        elif df1[df1.columns[j]].nunique()<10:\n",
    "            feature_type.append('Ordinal')\n",
    "        else:\n",
    "            feature_type.append('Identifier')\n",
    "    \n",
    "    #listing feature content\n",
    "    features_content = []\n",
    "    for i in range(len(df1.columns)):\n",
    "        if df1[df1.columns[i]].nunique()<10: \n",
    "            features_content.append(df1[df1.columns[i]].unique())\n",
    "        else:\n",
    "            features_content.append('n = ' + str(df1[df1.columns[i]].nunique()))\n",
    "            \n",
    "    #listing empty cells feature type\n",
    "    num_of_empty = []\n",
    "    for k in df1.columns:\n",
    "        num_of_empty.append(df1[k].isnull().sum())\n",
    "\n",
    "    #listing empty cells ratio feature type\n",
    "    ratio_of_empty = []\n",
    "    for k in df1.columns:\n",
    "        ratio_of_empty.append(round(100*df1[k].isnull().sum()/df1[k].isnull().count(),2))\n",
    "    \n",
    "    discovered = pd.DataFrame({'Features': df1.columns, \n",
    "                               'Features Content': features_content, \n",
    "                               'Feature Type': feature_type, \n",
    "                               'Empty Cells': num_of_empty,\n",
    "                               '% Empty': ratio_of_empty\n",
    "                             })\n",
    "    discovered = discovered.sort_values(['Feature Type','Empty Cells'],ascending=False)\n",
    "    print(\"Shape of Dataset: \",df.shape)\n",
    "    return discovered"
   ]
  },
  {
   "cell_type": "code",
   "execution_count": 8,
   "id": "6ee33678",
   "metadata": {
    "execution": {
     "iopub.execute_input": "2022-10-26T09:07:11.615366Z",
     "iopub.status.busy": "2022-10-26T09:07:11.614929Z",
     "iopub.status.idle": "2022-10-26T09:07:11.655610Z",
     "shell.execute_reply": "2022-10-26T09:07:11.654300Z"
    },
    "papermill": {
     "duration": 0.051689,
     "end_time": "2022-10-26T09:07:11.658186",
     "exception": false,
     "start_time": "2022-10-26T09:07:11.606497",
     "status": "completed"
    },
    "tags": []
   },
   "outputs": [
    {
     "name": "stdout",
     "output_type": "stream",
     "text": [
      "Shape of Dataset:  (1453, 15)\n"
     ]
    },
    {
     "data": {
      "text/html": [
       "<div>\n",
       "<style scoped>\n",
       "    .dataframe tbody tr th:only-of-type {\n",
       "        vertical-align: middle;\n",
       "    }\n",
       "\n",
       "    .dataframe tbody tr th {\n",
       "        vertical-align: top;\n",
       "    }\n",
       "\n",
       "    .dataframe thead th {\n",
       "        text-align: right;\n",
       "    }\n",
       "</style>\n",
       "<table border=\"1\" class=\"dataframe\">\n",
       "  <thead>\n",
       "    <tr style=\"text-align: right;\">\n",
       "      <th></th>\n",
       "      <th>Features</th>\n",
       "      <th>Features Content</th>\n",
       "      <th>Feature Type</th>\n",
       "      <th>Empty Cells</th>\n",
       "      <th>% Empty</th>\n",
       "    </tr>\n",
       "  </thead>\n",
       "  <tbody>\n",
       "    <tr>\n",
       "      <th>13</th>\n",
       "      <td>VisitFrequency</td>\n",
       "      <td>[Every three months, Once a week, Once a month...</td>\n",
       "      <td>Ordinal</td>\n",
       "      <td>0</td>\n",
       "      <td>0.0</td>\n",
       "    </tr>\n",
       "    <tr>\n",
       "      <th>12</th>\n",
       "      <td>Age</td>\n",
       "      <td>n = 54</td>\n",
       "      <td>Numerical</td>\n",
       "      <td>0</td>\n",
       "      <td>0.0</td>\n",
       "    </tr>\n",
       "    <tr>\n",
       "      <th>11</th>\n",
       "      <td>Like</td>\n",
       "      <td>n = 11</td>\n",
       "      <td>Identifier</td>\n",
       "      <td>0</td>\n",
       "      <td>0.0</td>\n",
       "    </tr>\n",
       "    <tr>\n",
       "      <th>0</th>\n",
       "      <td>yummy</td>\n",
       "      <td>[0, 1]</td>\n",
       "      <td>Binary</td>\n",
       "      <td>0</td>\n",
       "      <td>0.0</td>\n",
       "    </tr>\n",
       "    <tr>\n",
       "      <th>1</th>\n",
       "      <td>convenient</td>\n",
       "      <td>[1, 0]</td>\n",
       "      <td>Binary</td>\n",
       "      <td>0</td>\n",
       "      <td>0.0</td>\n",
       "    </tr>\n",
       "    <tr>\n",
       "      <th>2</th>\n",
       "      <td>spicy</td>\n",
       "      <td>[0, 1]</td>\n",
       "      <td>Binary</td>\n",
       "      <td>0</td>\n",
       "      <td>0.0</td>\n",
       "    </tr>\n",
       "    <tr>\n",
       "      <th>3</th>\n",
       "      <td>fattening</td>\n",
       "      <td>[1, 0]</td>\n",
       "      <td>Binary</td>\n",
       "      <td>0</td>\n",
       "      <td>0.0</td>\n",
       "    </tr>\n",
       "    <tr>\n",
       "      <th>4</th>\n",
       "      <td>greasy</td>\n",
       "      <td>[0, 1]</td>\n",
       "      <td>Binary</td>\n",
       "      <td>0</td>\n",
       "      <td>0.0</td>\n",
       "    </tr>\n",
       "    <tr>\n",
       "      <th>5</th>\n",
       "      <td>fast</td>\n",
       "      <td>[1, 0]</td>\n",
       "      <td>Binary</td>\n",
       "      <td>0</td>\n",
       "      <td>0.0</td>\n",
       "    </tr>\n",
       "    <tr>\n",
       "      <th>6</th>\n",
       "      <td>cheap</td>\n",
       "      <td>[1, 0]</td>\n",
       "      <td>Binary</td>\n",
       "      <td>0</td>\n",
       "      <td>0.0</td>\n",
       "    </tr>\n",
       "    <tr>\n",
       "      <th>7</th>\n",
       "      <td>tasty</td>\n",
       "      <td>[0, 1]</td>\n",
       "      <td>Binary</td>\n",
       "      <td>0</td>\n",
       "      <td>0.0</td>\n",
       "    </tr>\n",
       "    <tr>\n",
       "      <th>8</th>\n",
       "      <td>expensive</td>\n",
       "      <td>[1, 0]</td>\n",
       "      <td>Binary</td>\n",
       "      <td>0</td>\n",
       "      <td>0.0</td>\n",
       "    </tr>\n",
       "    <tr>\n",
       "      <th>9</th>\n",
       "      <td>healthy</td>\n",
       "      <td>[0, 1]</td>\n",
       "      <td>Binary</td>\n",
       "      <td>0</td>\n",
       "      <td>0.0</td>\n",
       "    </tr>\n",
       "    <tr>\n",
       "      <th>10</th>\n",
       "      <td>disgusting</td>\n",
       "      <td>[0, 1]</td>\n",
       "      <td>Binary</td>\n",
       "      <td>0</td>\n",
       "      <td>0.0</td>\n",
       "    </tr>\n",
       "    <tr>\n",
       "      <th>14</th>\n",
       "      <td>Gender</td>\n",
       "      <td>[Female, Male]</td>\n",
       "      <td>Binary</td>\n",
       "      <td>0</td>\n",
       "      <td>0.0</td>\n",
       "    </tr>\n",
       "  </tbody>\n",
       "</table>\n",
       "</div>"
      ],
      "text/plain": [
       "          Features                                   Features Content  \\\n",
       "13  VisitFrequency  [Every three months, Once a week, Once a month...   \n",
       "12             Age                                             n = 54   \n",
       "11            Like                                             n = 11   \n",
       "0            yummy                                             [0, 1]   \n",
       "1       convenient                                             [1, 0]   \n",
       "2            spicy                                             [0, 1]   \n",
       "3        fattening                                             [1, 0]   \n",
       "4           greasy                                             [0, 1]   \n",
       "5             fast                                             [1, 0]   \n",
       "6            cheap                                             [1, 0]   \n",
       "7            tasty                                             [0, 1]   \n",
       "8        expensive                                             [1, 0]   \n",
       "9          healthy                                             [0, 1]   \n",
       "10      disgusting                                             [0, 1]   \n",
       "14          Gender                                     [Female, Male]   \n",
       "\n",
       "   Feature Type  Empty Cells  % Empty  \n",
       "13      Ordinal            0      0.0  \n",
       "12    Numerical            0      0.0  \n",
       "11   Identifier            0      0.0  \n",
       "0        Binary            0      0.0  \n",
       "1        Binary            0      0.0  \n",
       "2        Binary            0      0.0  \n",
       "3        Binary            0      0.0  \n",
       "4        Binary            0      0.0  \n",
       "5        Binary            0      0.0  \n",
       "6        Binary            0      0.0  \n",
       "7        Binary            0      0.0  \n",
       "8        Binary            0      0.0  \n",
       "9        Binary            0      0.0  \n",
       "10       Binary            0      0.0  \n",
       "14       Binary            0      0.0  "
      ]
     },
     "execution_count": 8,
     "metadata": {},
     "output_type": "execute_result"
    }
   ],
   "source": [
    "discover(df)"
   ]
  },
  {
   "cell_type": "code",
   "execution_count": 9,
   "id": "58bc6755",
   "metadata": {
    "execution": {
     "iopub.execute_input": "2022-10-26T09:07:11.674664Z",
     "iopub.status.busy": "2022-10-26T09:07:11.674254Z",
     "iopub.status.idle": "2022-10-26T09:07:11.682612Z",
     "shell.execute_reply": "2022-10-26T09:07:11.681306Z"
    },
    "papermill": {
     "duration": 0.019443,
     "end_time": "2022-10-26T09:07:11.684980",
     "exception": false,
     "start_time": "2022-10-26T09:07:11.665537",
     "status": "completed"
    },
    "tags": []
   },
   "outputs": [
    {
     "data": {
      "text/plain": [
       "array(['Every three months', 'Once a week', 'Once a month', 'Once a year',\n",
       "       'More than once a week', 'Never'], dtype=object)"
      ]
     },
     "execution_count": 9,
     "metadata": {},
     "output_type": "execute_result"
    }
   ],
   "source": [
    "df.VisitFrequency.unique()"
   ]
  },
  {
   "cell_type": "code",
   "execution_count": 10,
   "id": "5390a230",
   "metadata": {
    "execution": {
     "iopub.execute_input": "2022-10-26T09:07:11.701792Z",
     "iopub.status.busy": "2022-10-26T09:07:11.701389Z",
     "iopub.status.idle": "2022-10-26T09:07:11.709613Z",
     "shell.execute_reply": "2022-10-26T09:07:11.708148Z"
    },
    "papermill": {
     "duration": 0.019446,
     "end_time": "2022-10-26T09:07:11.711957",
     "exception": false,
     "start_time": "2022-10-26T09:07:11.692511",
     "status": "completed"
    },
    "tags": []
   },
   "outputs": [
    {
     "data": {
      "text/plain": [
       "array(['-3', '+2', '+1', '+4', 'I love it!+5', 'I hate it!-5', '-2', '+3',\n",
       "       '0', '-4', '-1'], dtype=object)"
      ]
     },
     "execution_count": 10,
     "metadata": {},
     "output_type": "execute_result"
    }
   ],
   "source": [
    "df.Like.unique()"
   ]
  },
  {
   "cell_type": "code",
   "execution_count": 11,
   "id": "c285954f",
   "metadata": {
    "execution": {
     "iopub.execute_input": "2022-10-26T09:07:11.729204Z",
     "iopub.status.busy": "2022-10-26T09:07:11.728777Z",
     "iopub.status.idle": "2022-10-26T09:07:11.740346Z",
     "shell.execute_reply": "2022-10-26T09:07:11.739404Z"
    },
    "papermill": {
     "duration": 0.023405,
     "end_time": "2022-10-26T09:07:11.742939",
     "exception": false,
     "start_time": "2022-10-26T09:07:11.719534",
     "status": "completed"
    },
    "tags": []
   },
   "outputs": [
    {
     "data": {
      "text/plain": [
       "yummy         0.55\n",
       "convenient    0.91\n",
       "spicy         0.09\n",
       "fattening     0.87\n",
       "greasy        0.53\n",
       "fast          0.90\n",
       "cheap         0.60\n",
       "tasty         0.64\n",
       "expensive     0.36\n",
       "healthy       0.20\n",
       "disgusting    0.24\n",
       "dtype: float64"
      ]
     },
     "execution_count": 11,
     "metadata": {},
     "output_type": "execute_result"
    }
   ],
   "source": [
    "round(df[binary].mean(),2)"
   ]
  },
  {
   "cell_type": "markdown",
   "id": "913f540a",
   "metadata": {
    "papermill": {
     "duration": 0.00717,
     "end_time": "2022-10-26T09:07:11.759109",
     "exception": false,
     "start_time": "2022-10-26T09:07:11.751939",
     "status": "completed"
    },
    "tags": []
   },
   "source": []
  },
  {
   "cell_type": "code",
   "execution_count": 12,
   "id": "f9bbf809",
   "metadata": {
    "execution": {
     "iopub.execute_input": "2022-10-26T09:07:11.775927Z",
     "iopub.status.busy": "2022-10-26T09:07:11.775525Z",
     "iopub.status.idle": "2022-10-26T09:07:13.028800Z",
     "shell.execute_reply": "2022-10-26T09:07:13.027380Z"
    },
    "papermill": {
     "duration": 1.264881,
     "end_time": "2022-10-26T09:07:13.031507",
     "exception": false,
     "start_time": "2022-10-26T09:07:11.766626",
     "status": "completed"
    },
    "tags": []
   },
   "outputs": [],
   "source": [
    "from sklearn.decomposition import PCA\n",
    "pca=PCA()"
   ]
  },
  {
   "cell_type": "code",
   "execution_count": 13,
   "id": "1c422bcf",
   "metadata": {
    "execution": {
     "iopub.execute_input": "2022-10-26T09:07:13.048733Z",
     "iopub.status.busy": "2022-10-26T09:07:13.048317Z",
     "iopub.status.idle": "2022-10-26T09:07:13.054371Z",
     "shell.execute_reply": "2022-10-26T09:07:13.053067Z"
    },
    "papermill": {
     "duration": 0.017258,
     "end_time": "2022-10-26T09:07:13.056515",
     "exception": false,
     "start_time": "2022-10-26T09:07:13.039257",
     "status": "completed"
    },
    "tags": []
   },
   "outputs": [],
   "source": [
    "X=df[binary]"
   ]
  },
  {
   "cell_type": "code",
   "execution_count": 14,
   "id": "0fcd68bd",
   "metadata": {
    "execution": {
     "iopub.execute_input": "2022-10-26T09:07:13.073818Z",
     "iopub.status.busy": "2022-10-26T09:07:13.073343Z",
     "iopub.status.idle": "2022-10-26T09:07:13.102886Z",
     "shell.execute_reply": "2022-10-26T09:07:13.100868Z"
    },
    "papermill": {
     "duration": 0.043409,
     "end_time": "2022-10-26T09:07:13.107593",
     "exception": false,
     "start_time": "2022-10-26T09:07:13.064184",
     "status": "completed"
    },
    "tags": []
   },
   "outputs": [],
   "source": [
    "prince=pca.fit_transform(X)"
   ]
  },
  {
   "cell_type": "code",
   "execution_count": 15,
   "id": "da22dd90",
   "metadata": {
    "execution": {
     "iopub.execute_input": "2022-10-26T09:07:13.150112Z",
     "iopub.status.busy": "2022-10-26T09:07:13.148665Z",
     "iopub.status.idle": "2022-10-26T09:07:13.194476Z",
     "shell.execute_reply": "2022-10-26T09:07:13.192884Z"
    },
    "papermill": {
     "duration": 0.071736,
     "end_time": "2022-10-26T09:07:13.198781",
     "exception": false,
     "start_time": "2022-10-26T09:07:13.127045",
     "status": "completed"
    },
    "tags": []
   },
   "outputs": [
    {
     "data": {
      "text/html": [
       "<div>\n",
       "<style scoped>\n",
       "    .dataframe tbody tr th:only-of-type {\n",
       "        vertical-align: middle;\n",
       "    }\n",
       "\n",
       "    .dataframe tbody tr th {\n",
       "        vertical-align: top;\n",
       "    }\n",
       "\n",
       "    .dataframe thead th {\n",
       "        text-align: right;\n",
       "    }\n",
       "</style>\n",
       "<table border=\"1\" class=\"dataframe\">\n",
       "  <thead>\n",
       "    <tr style=\"text-align: right;\">\n",
       "      <th></th>\n",
       "      <th>pc1</th>\n",
       "      <th>pc2</th>\n",
       "      <th>pc3</th>\n",
       "      <th>pc4</th>\n",
       "      <th>pc5</th>\n",
       "      <th>pc6</th>\n",
       "      <th>pc7</th>\n",
       "      <th>pc8</th>\n",
       "      <th>pc9</th>\n",
       "      <th>pc10</th>\n",
       "      <th>pc11</th>\n",
       "    </tr>\n",
       "  </thead>\n",
       "  <tbody>\n",
       "    <tr>\n",
       "      <th>yummy</th>\n",
       "      <td>0.476933</td>\n",
       "      <td>-0.363790</td>\n",
       "      <td>0.304444</td>\n",
       "      <td>-0.055162</td>\n",
       "      <td>0.307535</td>\n",
       "      <td>-0.170738</td>\n",
       "      <td>0.280519</td>\n",
       "      <td>-0.013041</td>\n",
       "      <td>-0.572403</td>\n",
       "      <td>0.110284</td>\n",
       "      <td>-0.045439</td>\n",
       "    </tr>\n",
       "    <tr>\n",
       "      <th>convenient</th>\n",
       "      <td>0.155332</td>\n",
       "      <td>-0.016414</td>\n",
       "      <td>0.062515</td>\n",
       "      <td>0.142425</td>\n",
       "      <td>-0.277608</td>\n",
       "      <td>0.347830</td>\n",
       "      <td>0.059738</td>\n",
       "      <td>0.113079</td>\n",
       "      <td>0.018465</td>\n",
       "      <td>0.665818</td>\n",
       "      <td>0.541616</td>\n",
       "    </tr>\n",
       "    <tr>\n",
       "      <th>spicy</th>\n",
       "      <td>0.006356</td>\n",
       "      <td>-0.018809</td>\n",
       "      <td>0.037019</td>\n",
       "      <td>-0.197619</td>\n",
       "      <td>-0.070620</td>\n",
       "      <td>0.355087</td>\n",
       "      <td>-0.707637</td>\n",
       "      <td>-0.375934</td>\n",
       "      <td>-0.400280</td>\n",
       "      <td>0.075634</td>\n",
       "      <td>-0.141730</td>\n",
       "    </tr>\n",
       "    <tr>\n",
       "      <th>fattening</th>\n",
       "      <td>-0.116232</td>\n",
       "      <td>0.034094</td>\n",
       "      <td>0.322359</td>\n",
       "      <td>0.354139</td>\n",
       "      <td>0.073405</td>\n",
       "      <td>0.406515</td>\n",
       "      <td>0.385943</td>\n",
       "      <td>-0.589622</td>\n",
       "      <td>0.160512</td>\n",
       "      <td>0.005338</td>\n",
       "      <td>-0.250910</td>\n",
       "    </tr>\n",
       "    <tr>\n",
       "      <th>greasy</th>\n",
       "      <td>-0.304443</td>\n",
       "      <td>0.063839</td>\n",
       "      <td>0.802373</td>\n",
       "      <td>-0.253960</td>\n",
       "      <td>-0.361399</td>\n",
       "      <td>-0.209347</td>\n",
       "      <td>-0.036170</td>\n",
       "      <td>0.138241</td>\n",
       "      <td>0.002847</td>\n",
       "      <td>-0.008707</td>\n",
       "      <td>-0.001642</td>\n",
       "    </tr>\n",
       "    <tr>\n",
       "      <th>fast</th>\n",
       "      <td>0.108493</td>\n",
       "      <td>0.086972</td>\n",
       "      <td>0.064642</td>\n",
       "      <td>0.097363</td>\n",
       "      <td>-0.107930</td>\n",
       "      <td>0.594632</td>\n",
       "      <td>0.086846</td>\n",
       "      <td>0.627799</td>\n",
       "      <td>-0.166197</td>\n",
       "      <td>-0.239532</td>\n",
       "      <td>-0.339265</td>\n",
       "    </tr>\n",
       "    <tr>\n",
       "      <th>cheap</th>\n",
       "      <td>0.337186</td>\n",
       "      <td>0.610633</td>\n",
       "      <td>0.149310</td>\n",
       "      <td>-0.118958</td>\n",
       "      <td>0.128973</td>\n",
       "      <td>0.103241</td>\n",
       "      <td>0.040449</td>\n",
       "      <td>-0.140060</td>\n",
       "      <td>-0.076069</td>\n",
       "      <td>-0.428087</td>\n",
       "      <td>0.489283</td>\n",
       "    </tr>\n",
       "    <tr>\n",
       "      <th>tasty</th>\n",
       "      <td>0.471514</td>\n",
       "      <td>-0.307318</td>\n",
       "      <td>0.287265</td>\n",
       "      <td>0.002547</td>\n",
       "      <td>0.210899</td>\n",
       "      <td>0.076914</td>\n",
       "      <td>-0.360453</td>\n",
       "      <td>0.072792</td>\n",
       "      <td>0.639086</td>\n",
       "      <td>-0.079184</td>\n",
       "      <td>-0.019552</td>\n",
       "    </tr>\n",
       "    <tr>\n",
       "      <th>expensive</th>\n",
       "      <td>-0.329042</td>\n",
       "      <td>-0.601286</td>\n",
       "      <td>-0.024397</td>\n",
       "      <td>-0.067816</td>\n",
       "      <td>0.003125</td>\n",
       "      <td>0.261342</td>\n",
       "      <td>0.068385</td>\n",
       "      <td>-0.029539</td>\n",
       "      <td>-0.066996</td>\n",
       "      <td>-0.454399</td>\n",
       "      <td>0.490069</td>\n",
       "    </tr>\n",
       "    <tr>\n",
       "      <th>healthy</th>\n",
       "      <td>0.213711</td>\n",
       "      <td>-0.076593</td>\n",
       "      <td>-0.192051</td>\n",
       "      <td>-0.763488</td>\n",
       "      <td>-0.287846</td>\n",
       "      <td>0.178226</td>\n",
       "      <td>0.349616</td>\n",
       "      <td>-0.176303</td>\n",
       "      <td>0.185572</td>\n",
       "      <td>0.038117</td>\n",
       "      <td>-0.157608</td>\n",
       "    </tr>\n",
       "    <tr>\n",
       "      <th>disgusting</th>\n",
       "      <td>-0.374753</td>\n",
       "      <td>0.139656</td>\n",
       "      <td>0.088571</td>\n",
       "      <td>-0.369539</td>\n",
       "      <td>0.729209</td>\n",
       "      <td>0.210878</td>\n",
       "      <td>0.026792</td>\n",
       "      <td>0.167181</td>\n",
       "      <td>0.072483</td>\n",
       "      <td>0.289592</td>\n",
       "      <td>0.040662</td>\n",
       "    </tr>\n",
       "  </tbody>\n",
       "</table>\n",
       "</div>"
      ],
      "text/plain": [
       "                 pc1       pc2       pc3       pc4       pc5       pc6  \\\n",
       "yummy       0.476933 -0.363790  0.304444 -0.055162  0.307535 -0.170738   \n",
       "convenient  0.155332 -0.016414  0.062515  0.142425 -0.277608  0.347830   \n",
       "spicy       0.006356 -0.018809  0.037019 -0.197619 -0.070620  0.355087   \n",
       "fattening  -0.116232  0.034094  0.322359  0.354139  0.073405  0.406515   \n",
       "greasy     -0.304443  0.063839  0.802373 -0.253960 -0.361399 -0.209347   \n",
       "fast        0.108493  0.086972  0.064642  0.097363 -0.107930  0.594632   \n",
       "cheap       0.337186  0.610633  0.149310 -0.118958  0.128973  0.103241   \n",
       "tasty       0.471514 -0.307318  0.287265  0.002547  0.210899  0.076914   \n",
       "expensive  -0.329042 -0.601286 -0.024397 -0.067816  0.003125  0.261342   \n",
       "healthy     0.213711 -0.076593 -0.192051 -0.763488 -0.287846  0.178226   \n",
       "disgusting -0.374753  0.139656  0.088571 -0.369539  0.729209  0.210878   \n",
       "\n",
       "                 pc7       pc8       pc9      pc10      pc11  \n",
       "yummy       0.280519 -0.013041 -0.572403  0.110284 -0.045439  \n",
       "convenient  0.059738  0.113079  0.018465  0.665818  0.541616  \n",
       "spicy      -0.707637 -0.375934 -0.400280  0.075634 -0.141730  \n",
       "fattening   0.385943 -0.589622  0.160512  0.005338 -0.250910  \n",
       "greasy     -0.036170  0.138241  0.002847 -0.008707 -0.001642  \n",
       "fast        0.086846  0.627799 -0.166197 -0.239532 -0.339265  \n",
       "cheap       0.040449 -0.140060 -0.076069 -0.428087  0.489283  \n",
       "tasty      -0.360453  0.072792  0.639086 -0.079184 -0.019552  \n",
       "expensive   0.068385 -0.029539 -0.066996 -0.454399  0.490069  \n",
       "healthy     0.349616 -0.176303  0.185572  0.038117 -0.157608  \n",
       "disgusting  0.026792  0.167181  0.072483  0.289592  0.040662  "
      ]
     },
     "execution_count": 15,
     "metadata": {},
     "output_type": "execute_result"
    }
   ],
   "source": [
    "pdf=pd.DataFrame(data=prince,columns=['pc1','pc2','pc3','pc4','pc5','pc6','pc7','pc8','pc9','pc10','pc11'])\n",
    "comp=pd.DataFrame(pca.components_.T,index=binary,columns=['pc1','pc2','pc3','pc4','pc5','pc6','pc7','pc8','pc9','pc10','pc11'])*-1\n",
    "comp"
   ]
  },
  {
   "cell_type": "code",
   "execution_count": 16,
   "id": "25c8281f",
   "metadata": {
    "execution": {
     "iopub.execute_input": "2022-10-26T09:07:13.227590Z",
     "iopub.status.busy": "2022-10-26T09:07:13.226857Z",
     "iopub.status.idle": "2022-10-26T09:07:13.695501Z",
     "shell.execute_reply": "2022-10-26T09:07:13.694124Z"
    },
    "papermill": {
     "duration": 0.480535,
     "end_time": "2022-10-26T09:07:13.698006",
     "exception": false,
     "start_time": "2022-10-26T09:07:13.217471",
     "status": "completed"
    },
    "tags": []
   },
   "outputs": [
    {
     "name": "stdout",
     "output_type": "stream",
     "text": [
      "AxesSubplot(0.125,0.125;0.775x0.755)\n"
     ]
    },
    {
     "data": {
      "image/png": "[encoded data removed]",
      "text/plain": [
       "<Figure size 432x288 with 1 Axes>"
      ]
     },
     "metadata": {
      "needs_background": "light"
     },
     "output_type": "display_data"
    }
   ],
   "source": [
    "import seaborn as sns\n",
    "import matplotlib.pyplot as plt\n",
    "ax1 = pdf.plot(kind='scatter', x='pc1', y='pc2',color='r')\n",
    "print(ax1)"
   ]
  },
  {
   "cell_type": "code",
   "execution_count": 17,
   "id": "dd2dcec9",
   "metadata": {
    "execution": {
     "iopub.execute_input": "2022-10-26T09:07:13.717275Z",
     "iopub.status.busy": "2022-10-26T09:07:13.716246Z",
     "iopub.status.idle": "2022-10-26T09:07:13.972758Z",
     "shell.execute_reply": "2022-10-26T09:07:13.971350Z"
    },
    "papermill": {
     "duration": 0.268934,
     "end_time": "2022-10-26T09:07:13.975515",
     "exception": false,
     "start_time": "2022-10-26T09:07:13.706581",
     "status": "completed"
    },
    "tags": []
   },
   "outputs": [
    {
     "data": {
      "text/plain": [
       "<BarContainer object of 11 artists>"
      ]
     },
     "execution_count": 17,
     "metadata": {},
     "output_type": "execute_result"
    },
    {
     "data": {
      "image/png": "[encoded data removed]",
      "text/plain": [
       "<Figure size 720x432 with 1 Axes>"
      ]
     },
     "metadata": {
      "needs_background": "light"
     },
     "output_type": "display_data"
    }
   ],
   "source": [
    "plt.figure(figsize = (10,6))\n",
    "plt.bar(['pc1','pc2','pc3','pc4','pc5','pc6','pc7','pc8','pc9','pc10','pc11'],pca.explained_variance_ratio_,color='red')"
   ]
  },
  {
   "cell_type": "code",
   "execution_count": 18,
   "id": "700126c3",
   "metadata": {
    "execution": {
     "iopub.execute_input": "2022-10-26T09:07:13.994823Z",
     "iopub.status.busy": "2022-10-26T09:07:13.994425Z",
     "iopub.status.idle": "2022-10-26T09:07:37.834924Z",
     "shell.execute_reply": "2022-10-26T09:07:37.833034Z"
    },
    "papermill": {
     "duration": 23.85373,
     "end_time": "2022-10-26T09:07:37.837953",
     "exception": false,
     "start_time": "2022-10-26T09:07:13.984223",
     "status": "completed"
    },
    "tags": []
   },
   "outputs": [],
   "source": [
    "from sklearn.cluster import KMeans\n",
    "wcss = [] \n",
    "for k in range(1,20):\n",
    "    kmeans = KMeans(n_clusters = k, init = 'k-means++', random_state = 42) \n",
    "    kmeans.fit(X)\n",
    "    wcss.append(kmeans.inertia_)"
   ]
  },
  {
   "cell_type": "code",
   "execution_count": 19,
   "id": "23854795",
   "metadata": {
    "execution": {
     "iopub.execute_input": "2022-10-26T09:07:37.868402Z",
     "iopub.status.busy": "2022-10-26T09:07:37.867951Z",
     "iopub.status.idle": "2022-10-26T09:07:38.085587Z",
     "shell.execute_reply": "2022-10-26T09:07:38.084332Z"
    },
    "papermill": {
     "duration": 0.230999,
     "end_time": "2022-10-26T09:07:38.088557",
     "exception": false,
     "start_time": "2022-10-26T09:07:37.857558",
     "status": "completed"
    },
    "tags": []
   },
   "outputs": [
    {
     "data": {
      "image/png": "[encoded data removed]",
      "text/plain": [
       "<Figure size 432x288 with 1 Axes>"
      ]
     },
     "metadata": {
      "needs_background": "light"
     },
     "output_type": "display_data"
    }
   ],
   "source": [
    "#Elbow Method\n",
    "plt.plot(range(1,20),wcss)\n",
    "plt.xlabel(\"clusters\")\n",
    "plt.ylabel(\"wcss\")\n",
    "plt.show()"
   ]
  },
  {
   "cell_type": "code",
   "execution_count": 20,
   "id": "9d3277f6",
   "metadata": {
    "execution": {
     "iopub.execute_input": "2022-10-26T09:07:38.113272Z",
     "iopub.status.busy": "2022-10-26T09:07:38.111541Z",
     "iopub.status.idle": "2022-10-26T09:07:39.432571Z",
     "shell.execute_reply": "2022-10-26T09:07:39.431362Z"
    },
    "papermill": {
     "duration": 1.336055,
     "end_time": "2022-10-26T09:07:39.435340",
     "exception": false,
     "start_time": "2022-10-26T09:07:38.099285",
     "status": "completed"
    },
    "tags": []
   },
   "outputs": [
    {
     "data": {
      "text/html": [
       "<div>\n",
       "<style scoped>\n",
       "    .dataframe tbody tr th:only-of-type {\n",
       "        vertical-align: middle;\n",
       "    }\n",
       "\n",
       "    .dataframe tbody tr th {\n",
       "        vertical-align: top;\n",
       "    }\n",
       "\n",
       "    .dataframe thead th {\n",
       "        text-align: right;\n",
       "    }\n",
       "</style>\n",
       "<table border=\"1\" class=\"dataframe\">\n",
       "  <thead>\n",
       "    <tr style=\"text-align: right;\">\n",
       "      <th></th>\n",
       "      <th>yummy</th>\n",
       "      <th>convenient</th>\n",
       "      <th>spicy</th>\n",
       "      <th>fattening</th>\n",
       "      <th>greasy</th>\n",
       "      <th>fast</th>\n",
       "      <th>cheap</th>\n",
       "      <th>tasty</th>\n",
       "      <th>expensive</th>\n",
       "      <th>healthy</th>\n",
       "      <th>disgusting</th>\n",
       "      <th>cluster</th>\n",
       "    </tr>\n",
       "  </thead>\n",
       "  <tbody>\n",
       "    <tr>\n",
       "      <th>0</th>\n",
       "      <td>0</td>\n",
       "      <td>1</td>\n",
       "      <td>0</td>\n",
       "      <td>1</td>\n",
       "      <td>0</td>\n",
       "      <td>1</td>\n",
       "      <td>1</td>\n",
       "      <td>0</td>\n",
       "      <td>1</td>\n",
       "      <td>0</td>\n",
       "      <td>0</td>\n",
       "      <td>6</td>\n",
       "    </tr>\n",
       "    <tr>\n",
       "      <th>1</th>\n",
       "      <td>1</td>\n",
       "      <td>1</td>\n",
       "      <td>0</td>\n",
       "      <td>1</td>\n",
       "      <td>1</td>\n",
       "      <td>1</td>\n",
       "      <td>1</td>\n",
       "      <td>1</td>\n",
       "      <td>1</td>\n",
       "      <td>0</td>\n",
       "      <td>0</td>\n",
       "      <td>5</td>\n",
       "    </tr>\n",
       "    <tr>\n",
       "      <th>2</th>\n",
       "      <td>0</td>\n",
       "      <td>1</td>\n",
       "      <td>1</td>\n",
       "      <td>1</td>\n",
       "      <td>1</td>\n",
       "      <td>1</td>\n",
       "      <td>0</td>\n",
       "      <td>1</td>\n",
       "      <td>1</td>\n",
       "      <td>1</td>\n",
       "      <td>0</td>\n",
       "      <td>7</td>\n",
       "    </tr>\n",
       "    <tr>\n",
       "      <th>3</th>\n",
       "      <td>1</td>\n",
       "      <td>1</td>\n",
       "      <td>0</td>\n",
       "      <td>1</td>\n",
       "      <td>1</td>\n",
       "      <td>1</td>\n",
       "      <td>1</td>\n",
       "      <td>1</td>\n",
       "      <td>0</td>\n",
       "      <td>0</td>\n",
       "      <td>1</td>\n",
       "      <td>5</td>\n",
       "    </tr>\n",
       "    <tr>\n",
       "      <th>4</th>\n",
       "      <td>0</td>\n",
       "      <td>1</td>\n",
       "      <td>0</td>\n",
       "      <td>1</td>\n",
       "      <td>1</td>\n",
       "      <td>1</td>\n",
       "      <td>1</td>\n",
       "      <td>0</td>\n",
       "      <td>0</td>\n",
       "      <td>1</td>\n",
       "      <td>0</td>\n",
       "      <td>6</td>\n",
       "    </tr>\n",
       "    <tr>\n",
       "      <th>...</th>\n",
       "      <td>...</td>\n",
       "      <td>...</td>\n",
       "      <td>...</td>\n",
       "      <td>...</td>\n",
       "      <td>...</td>\n",
       "      <td>...</td>\n",
       "      <td>...</td>\n",
       "      <td>...</td>\n",
       "      <td>...</td>\n",
       "      <td>...</td>\n",
       "      <td>...</td>\n",
       "      <td>...</td>\n",
       "    </tr>\n",
       "    <tr>\n",
       "      <th>1448</th>\n",
       "      <td>0</td>\n",
       "      <td>1</td>\n",
       "      <td>0</td>\n",
       "      <td>1</td>\n",
       "      <td>1</td>\n",
       "      <td>0</td>\n",
       "      <td>0</td>\n",
       "      <td>0</td>\n",
       "      <td>1</td>\n",
       "      <td>0</td>\n",
       "      <td>1</td>\n",
       "      <td>4</td>\n",
       "    </tr>\n",
       "    <tr>\n",
       "      <th>1449</th>\n",
       "      <td>1</td>\n",
       "      <td>1</td>\n",
       "      <td>0</td>\n",
       "      <td>1</td>\n",
       "      <td>0</td>\n",
       "      <td>0</td>\n",
       "      <td>1</td>\n",
       "      <td>1</td>\n",
       "      <td>0</td>\n",
       "      <td>1</td>\n",
       "      <td>0</td>\n",
       "      <td>2</td>\n",
       "    </tr>\n",
       "    <tr>\n",
       "      <th>1450</th>\n",
       "      <td>1</td>\n",
       "      <td>1</td>\n",
       "      <td>0</td>\n",
       "      <td>1</td>\n",
       "      <td>0</td>\n",
       "      <td>1</td>\n",
       "      <td>0</td>\n",
       "      <td>1</td>\n",
       "      <td>1</td>\n",
       "      <td>0</td>\n",
       "      <td>0</td>\n",
       "      <td>3</td>\n",
       "    </tr>\n",
       "    <tr>\n",
       "      <th>1451</th>\n",
       "      <td>1</td>\n",
       "      <td>1</td>\n",
       "      <td>0</td>\n",
       "      <td>0</td>\n",
       "      <td>0</td>\n",
       "      <td>1</td>\n",
       "      <td>1</td>\n",
       "      <td>1</td>\n",
       "      <td>0</td>\n",
       "      <td>1</td>\n",
       "      <td>0</td>\n",
       "      <td>2</td>\n",
       "    </tr>\n",
       "    <tr>\n",
       "      <th>1452</th>\n",
       "      <td>0</td>\n",
       "      <td>1</td>\n",
       "      <td>0</td>\n",
       "      <td>1</td>\n",
       "      <td>1</td>\n",
       "      <td>0</td>\n",
       "      <td>0</td>\n",
       "      <td>0</td>\n",
       "      <td>1</td>\n",
       "      <td>0</td>\n",
       "      <td>1</td>\n",
       "      <td>4</td>\n",
       "    </tr>\n",
       "  </tbody>\n",
       "</table>\n",
       "<p>1453 rows × 12 columns</p>\n",
       "</div>"
      ],
      "text/plain": [
       "      yummy  convenient  spicy  fattening  greasy  fast  cheap  tasty  \\\n",
       "0         0           1      0          1       0     1      1      0   \n",
       "1         1           1      0          1       1     1      1      1   \n",
       "2         0           1      1          1       1     1      0      1   \n",
       "3         1           1      0          1       1     1      1      1   \n",
       "4         0           1      0          1       1     1      1      0   \n",
       "...     ...         ...    ...        ...     ...   ...    ...    ...   \n",
       "1448      0           1      0          1       1     0      0      0   \n",
       "1449      1           1      0          1       0     0      1      1   \n",
       "1450      1           1      0          1       0     1      0      1   \n",
       "1451      1           1      0          0       0     1      1      1   \n",
       "1452      0           1      0          1       1     0      0      0   \n",
       "\n",
       "      expensive  healthy  disgusting  cluster  \n",
       "0             1        0           0        6  \n",
       "1             1        0           0        5  \n",
       "2             1        1           0        7  \n",
       "3             0        0           1        5  \n",
       "4             0        1           0        6  \n",
       "...         ...      ...         ...      ...  \n",
       "1448          1        0           1        4  \n",
       "1449          0        1           0        2  \n",
       "1450          1        0           0        3  \n",
       "1451          0        1           0        2  \n",
       "1452          1        0           1        4  \n",
       "\n",
       "[1453 rows x 12 columns]"
      ]
     },
     "execution_count": 20,
     "metadata": {},
     "output_type": "execute_result"
    }
   ],
   "source": [
    "kmeans = KMeans(8)\n",
    "kmeans.fit(X)\n",
    "\n",
    "df_1=pd.concat([X,pd.DataFrame({'cluster':kmeans.labels_})], axis = 1)\n",
    "df_1"
   ]
  },
  {
   "cell_type": "code",
   "execution_count": 21,
   "id": "03d8c04f",
   "metadata": {
    "execution": {
     "iopub.execute_input": "2022-10-26T09:07:39.456383Z",
     "iopub.status.busy": "2022-10-26T09:07:39.455455Z",
     "iopub.status.idle": "2022-10-26T09:07:39.478141Z",
     "shell.execute_reply": "2022-10-26T09:07:39.476905Z"
    },
    "papermill": {
     "duration": 0.035928,
     "end_time": "2022-10-26T09:07:39.480744",
     "exception": false,
     "start_time": "2022-10-26T09:07:39.444816",
     "status": "completed"
    },
    "tags": []
   },
   "outputs": [
    {
     "data": {
      "text/html": [
       "<div>\n",
       "<style scoped>\n",
       "    .dataframe tbody tr th:only-of-type {\n",
       "        vertical-align: middle;\n",
       "    }\n",
       "\n",
       "    .dataframe tbody tr th {\n",
       "        vertical-align: top;\n",
       "    }\n",
       "\n",
       "    .dataframe thead th {\n",
       "        text-align: right;\n",
       "    }\n",
       "</style>\n",
       "<table border=\"1\" class=\"dataframe\">\n",
       "  <thead>\n",
       "    <tr style=\"text-align: right;\">\n",
       "      <th></th>\n",
       "      <th>yummy</th>\n",
       "      <th>convenient</th>\n",
       "      <th>spicy</th>\n",
       "      <th>fattening</th>\n",
       "      <th>greasy</th>\n",
       "      <th>fast</th>\n",
       "      <th>cheap</th>\n",
       "      <th>tasty</th>\n",
       "      <th>expensive</th>\n",
       "      <th>healthy</th>\n",
       "      <th>disgusting</th>\n",
       "    </tr>\n",
       "    <tr>\n",
       "      <th>cluster</th>\n",
       "      <th></th>\n",
       "      <th></th>\n",
       "      <th></th>\n",
       "      <th></th>\n",
       "      <th></th>\n",
       "      <th></th>\n",
       "      <th></th>\n",
       "      <th></th>\n",
       "      <th></th>\n",
       "      <th></th>\n",
       "      <th></th>\n",
       "    </tr>\n",
       "  </thead>\n",
       "  <tbody>\n",
       "    <tr>\n",
       "      <th>0</th>\n",
       "      <td>0.021127</td>\n",
       "      <td>0.838028</td>\n",
       "      <td>0.077465</td>\n",
       "      <td>0.964789</td>\n",
       "      <td>0.781690</td>\n",
       "      <td>0.950704</td>\n",
       "      <td>0.901408</td>\n",
       "      <td>0.147887</td>\n",
       "      <td>0.070423</td>\n",
       "      <td>0.042254</td>\n",
       "      <td>1.000000</td>\n",
       "    </tr>\n",
       "    <tr>\n",
       "      <th>1</th>\n",
       "      <td>0.796209</td>\n",
       "      <td>0.981043</td>\n",
       "      <td>0.085308</td>\n",
       "      <td>0.971564</td>\n",
       "      <td>0.000000</td>\n",
       "      <td>0.981043</td>\n",
       "      <td>0.900474</td>\n",
       "      <td>0.962085</td>\n",
       "      <td>0.018957</td>\n",
       "      <td>0.000000</td>\n",
       "      <td>0.014218</td>\n",
       "    </tr>\n",
       "    <tr>\n",
       "      <th>2</th>\n",
       "      <td>0.946524</td>\n",
       "      <td>0.967914</td>\n",
       "      <td>0.106952</td>\n",
       "      <td>0.363636</td>\n",
       "      <td>0.016043</td>\n",
       "      <td>0.946524</td>\n",
       "      <td>0.850267</td>\n",
       "      <td>0.978610</td>\n",
       "      <td>0.112299</td>\n",
       "      <td>0.866310</td>\n",
       "      <td>0.016043</td>\n",
       "    </tr>\n",
       "    <tr>\n",
       "      <th>3</th>\n",
       "      <td>1.000000</td>\n",
       "      <td>0.970732</td>\n",
       "      <td>0.068293</td>\n",
       "      <td>0.965854</td>\n",
       "      <td>0.570732</td>\n",
       "      <td>0.853659</td>\n",
       "      <td>0.000000</td>\n",
       "      <td>0.941463</td>\n",
       "      <td>1.000000</td>\n",
       "      <td>0.160976</td>\n",
       "      <td>0.073171</td>\n",
       "    </tr>\n",
       "    <tr>\n",
       "      <th>4</th>\n",
       "      <td>0.026490</td>\n",
       "      <td>0.516556</td>\n",
       "      <td>0.079470</td>\n",
       "      <td>0.947020</td>\n",
       "      <td>0.834437</td>\n",
       "      <td>0.682119</td>\n",
       "      <td>0.039735</td>\n",
       "      <td>0.086093</td>\n",
       "      <td>0.953642</td>\n",
       "      <td>0.026490</td>\n",
       "      <td>0.980132</td>\n",
       "    </tr>\n",
       "    <tr>\n",
       "      <th>5</th>\n",
       "      <td>0.864286</td>\n",
       "      <td>0.982143</td>\n",
       "      <td>0.125000</td>\n",
       "      <td>0.985714</td>\n",
       "      <td>1.000000</td>\n",
       "      <td>0.957143</td>\n",
       "      <td>0.914286</td>\n",
       "      <td>0.950000</td>\n",
       "      <td>0.114286</td>\n",
       "      <td>0.182143</td>\n",
       "      <td>0.132143</td>\n",
       "    </tr>\n",
       "    <tr>\n",
       "      <th>6</th>\n",
       "      <td>0.000000</td>\n",
       "      <td>0.942029</td>\n",
       "      <td>0.050725</td>\n",
       "      <td>0.905797</td>\n",
       "      <td>0.528986</td>\n",
       "      <td>0.978261</td>\n",
       "      <td>0.942029</td>\n",
       "      <td>0.000000</td>\n",
       "      <td>0.028986</td>\n",
       "      <td>0.115942</td>\n",
       "      <td>0.000000</td>\n",
       "    </tr>\n",
       "    <tr>\n",
       "      <th>7</th>\n",
       "      <td>0.028777</td>\n",
       "      <td>0.935252</td>\n",
       "      <td>0.136691</td>\n",
       "      <td>0.776978</td>\n",
       "      <td>0.395683</td>\n",
       "      <td>0.776978</td>\n",
       "      <td>0.007194</td>\n",
       "      <td>0.410072</td>\n",
       "      <td>0.719424</td>\n",
       "      <td>0.122302</td>\n",
       "      <td>0.035971</td>\n",
       "    </tr>\n",
       "  </tbody>\n",
       "</table>\n",
       "</div>"
      ],
      "text/plain": [
       "            yummy  convenient     spicy  fattening    greasy      fast  \\\n",
       "cluster                                                                  \n",
       "0        0.021127    0.838028  0.077465   0.964789  0.781690  0.950704   \n",
       "1        0.796209    0.981043  0.085308   0.971564  0.000000  0.981043   \n",
       "2        0.946524    0.967914  0.106952   0.363636  0.016043  0.946524   \n",
       "3        1.000000    0.970732  0.068293   0.965854  0.570732  0.853659   \n",
       "4        0.026490    0.516556  0.079470   0.947020  0.834437  0.682119   \n",
       "5        0.864286    0.982143  0.125000   0.985714  1.000000  0.957143   \n",
       "6        0.000000    0.942029  0.050725   0.905797  0.528986  0.978261   \n",
       "7        0.028777    0.935252  0.136691   0.776978  0.395683  0.776978   \n",
       "\n",
       "            cheap     tasty  expensive   healthy  disgusting  \n",
       "cluster                                                       \n",
       "0        0.901408  0.147887   0.070423  0.042254    1.000000  \n",
       "1        0.900474  0.962085   0.018957  0.000000    0.014218  \n",
       "2        0.850267  0.978610   0.112299  0.866310    0.016043  \n",
       "3        0.000000  0.941463   1.000000  0.160976    0.073171  \n",
       "4        0.039735  0.086093   0.953642  0.026490    0.980132  \n",
       "5        0.914286  0.950000   0.114286  0.182143    0.132143  \n",
       "6        0.942029  0.000000   0.028986  0.115942    0.000000  \n",
       "7        0.007194  0.410072   0.719424  0.122302    0.035971  "
      ]
     },
     "execution_count": 21,
     "metadata": {},
     "output_type": "execute_result"
    }
   ],
   "source": [
    "group=df_1.groupby(['cluster'])\n",
    "group.mean()"
   ]
  },
  {
   "cell_type": "code",
   "execution_count": 22,
   "id": "3d838a8c",
   "metadata": {
    "execution": {
     "iopub.execute_input": "2022-10-26T09:07:39.501913Z",
     "iopub.status.busy": "2022-10-26T09:07:39.501485Z",
     "iopub.status.idle": "2022-10-26T09:07:39.511906Z",
     "shell.execute_reply": "2022-10-26T09:07:39.510752Z"
    },
    "papermill": {
     "duration": 0.023781,
     "end_time": "2022-10-26T09:07:39.514335",
     "exception": false,
     "start_time": "2022-10-26T09:07:39.490554",
     "status": "completed"
    },
    "tags": []
   },
   "outputs": [
    {
     "data": {
      "text/plain": [
       "array(['-3', '+2', '+1', '+4', '+5', '-5', '-2', '+3', '0', '-4', '-1'],\n",
       "      dtype=object)"
      ]
     },
     "execution_count": 22,
     "metadata": {},
     "output_type": "execute_result"
    }
   ],
   "source": [
    "df.replace({'I love it!+5': '+5', 'I hate it!-5':'-5'}, inplace=True)\n",
    "df['Like'].unique()"
   ]
  },
  {
   "cell_type": "code",
   "execution_count": 23,
   "id": "9071c7d4",
   "metadata": {
    "execution": {
     "iopub.execute_input": "2022-10-26T09:07:39.536172Z",
     "iopub.status.busy": "2022-10-26T09:07:39.535747Z",
     "iopub.status.idle": "2022-10-26T09:07:42.224317Z",
     "shell.execute_reply": "2022-10-26T09:07:42.223024Z"
    },
    "papermill": {
     "duration": 2.702473,
     "end_time": "2022-10-26T09:07:42.227200",
     "exception": false,
     "start_time": "2022-10-26T09:07:39.524727",
     "status": "completed"
    },
    "tags": []
   },
   "outputs": [
    {
     "data": {
      "text/html": [
       "        <script type=\"text/javascript\">\n",
       "        window.PlotlyConfig = {MathJaxConfig: 'local'};\n",
       "        if (window.MathJax && window.MathJax.Hub && window.MathJax.Hub.Config) {window.MathJax.Hub.Config({SVG: {font: \"STIX-Web\"}});}\n",
       "        if (typeof require !== 'undefined') {\n",
       "        require.undef(\"plotly\");\n",
       "        requirejs.config({\n",
       "            paths: {\n",
       "                'plotly': ['https://cdn.plot.ly/plotly-2.14.0.min']\n",
       "            }\n",
       "        });\n",
       "        require(['plotly'], function(Plotly) {\n",
       "            window._Plotly = Plotly;\n",
       "        });\n",
       "        }\n",
       "        </script>\n",
       "        "
      ]
     },
     "metadata": {},
     "output_type": "display_data"
    },
    {
     "data": {
      "text/html": [
       "<div>                            <div id=\"221c9637-a1bd-4686-9705-c7c570f40550\" class=\"plotly-graph-div\" style=\"height:525px; width:100%;\"></div>            <script type=\"text/javascript\">                require([\"plotly\"], function(Plotly) {                    window.PLOTLYENV=window.PLOTLYENV || {};                                    if (document.getElementById(\"221c9637-a1bd-4686-9705-c7c570f40550\")) {                    Plotly.newPlot(                        \"221c9637-a1bd-4686-9705-c7c570f40550\",                        [{\"hovertemplate\":\"color=-3<br>0=%{x}<br>1=%{y}<extra></extra>\",\"legendgroup\":\"-3\",\"marker\":{\"color\":\"#636efa\",\"symbol\":\"circle\"},\"mode\":\"markers\",\"name\":\"-3\",\"showlegend\":true,\"x\":[0.42536705579683703,0.7625529809078455,0.7508133243270854,1.7055734494762522,0.0963253240367915,0.7755209493878069,0.14113594887537065,0.7625529809078455,1.5438854979767307,1.1373059102668632,0.0963253240367915,0.1354252299133279,0.9444076312768578,0.3040070069149995,0.40076802002878903,1.5970801961589105,0.3358496632736171,0.0845856674560314,0.7755209493878069,0.7625529809078455,1.5438854979767307,0.756524043289128,1.5502418595762024,0.7755209493878069,0.11854824465940587,0.0382288272196359,0.40076802002878903,0.40076802002878903,0.0963253240367915,0.7755209493878069,0.40076802002878903,-0.4914203024595294,0.5811044083416721,1.1045626811478582,0.5891253728275639,1.4011307534842545,0.5900621871322134,0.3040070069149995,0.40076802002878903,1.11270687449881,-0.07710228404348986,0.8710462342251867,0.4710782533958094,0.0963253240367915,1.5970801961589105,1.11270687449881,1.441748606258861,0.16938780711670234,0.40076802002878903,0.7755209493878069,0.3944116584293177,-0.38154498003548737,0.8840142027051482,0.7755209493878069,-0.07616546973884057,0.0963253240367915,1.3255169222353476,0.7755209493878069,0.5900621871322134,0.35484656937229603,1.1373059102668632,1.7055734494762522,1.5502418595762024,0.7755209493878069,0.3231864953882311,0.7755209493878069,1.2223272667998928,0.0963253240367915,1.11270687449881,0.9702346637860534,1.1045626811478582,0.18705739953186368,1.5502418595762024],\"xaxis\":\"x\",\"y\":[-0.21907878279009813,0.3915539780963016,0.6186189397457532,0.25861701095885486,-0.8203647406233364,-1.0238599142775817,-0.84933368364947,0.3915539780963016,0.293839702281014,0.25189764554358707,-0.8203647406233364,-0.8026847837052561,0.38061778523500933,-0.7165421141850162,-0.8842035817248671,0.17164480710047322,0.6699028351627331,-0.5932997789738848,-1.0238599142775817,0.3915539780963016,0.293839702281014,0.5719700398015398,0.2750310083004376,-1.0238599142775817,0.9988227205761092,0.11980230544842846,-0.8842035817248671,-0.8842035817248671,-0.8203647406233364,-1.0238599142775817,-0.8842035817248671,-0.47895298627110844,-0.10507981896047283,-0.4225739564443456,0.6538416310679123,0.3224558520603856,0.691504920483544,-0.7165421141850162,-0.8842035817248671,-0.4132271533911797,-0.5580770876517258,0.47852618195468316,-0.9600210731760506,-0.8203647406233364,0.17164480710047322,-0.4132271533911797,0.18805880444205622,0.7894377158447375,-0.8842035817248671,-1.0238599142775817,-0.865394887744291,-0.49423824655019494,-0.9368877104192,-1.0238599142775817,-0.5204137982360939,-0.8203647406233364,0.2221527587017188,-1.0238599142775817,0.691504920483544,-0.9259271189163885,0.25189764554358707,0.25861701095885486,0.2750310083004376,-1.0238599142775817,0.005054668145958256,-1.0238599142775817,0.31130113965318784,-0.8203647406233364,-0.4132271533911797,0.4953766045346214,-0.4225739564443456,-0.8076101464579487,0.2750310083004377],\"yaxis\":\"y\",\"type\":\"scattergl\"},{\"hovertemplate\":\"color=+2<br>0=%{x}<br>1=%{y}<extra></extra>\",\"legendgroup\":\"+2\",\"marker\":{\"color\":\"#EF553B\",\"symbol\":\"circle\"},\"mode\":\"markers\",\"name\":\"+2\",\"showlegend\":true,\"x\":[-0.21863768045159696,0.18705739953186365,-0.8521221082036453,-0.40596143342898844,-0.3267251711241585,0.4933011740184239,-0.5230803764435945,-1.0658327287005707,0.0779303918847997,-0.06395173318897573,-0.547679412211648,-0.07616546973884057,-0.07074592244401841,1.11270687449881,-0.37518861843601586,-0.18589445133259158,-0.37518861843601586,0.7379539451397917,-0.8521221082036453,0.11854824465940587,-0.8521221082036453,0.40076802002878903,-0.18589445133259158,-0.547679412211648,0.3040070069149995,-0.5540357738111193,-1.182064412724084,-1.182064412724084,-0.09516237583751953,0.4475626879207559,0.40076802002878903,0.08996896243731996,0.0963253240367915,-0.547679412211648,-0.2844565429409438,0.2270414979767474,0.11219188305993448,0.28561949114021573,-1.0658327287005707,0.0963253240367915,-0.18589445133259158,-1.0658327287005707,-0.29111181851217566,-0.39234782231159804,0.37493325598432575,-1.182064412724084,-0.8521221082036453,-0.03800269332501312,0.2270414979767474,0.3770694899949107,-0.07740119801525008,-0.9683537922271584,-0.15423437734852646,-0.631167867116156,-0.547679412211648,0.11854824465940587,-0.38154498003548737,0.0963253240367915,-0.3866371033495555,0.6985554404495549,0.2910390384350381,-0.21049348710064525,0.0963253240367915,0.14975888730794973,-0.18589445133259158,0.17480735441152462,-0.18589445133259158,0.2528762620212105,-0.547679412211648,-0.547679412211648,-1.182064412724084,0.737053372379404,0.40076802002878903,-0.547679412211648,0.11854824465940587,-0.21049348710064525,-0.547679412211648,0.40076802002878903,-0.547679412211648,-0.8521221082036453,-0.547679412211648,-0.03800269332501312,-0.547679412211648,-0.7436288548863037,0.0963253240367915,-0.8521221082036453,-0.5888992389329414,-0.37518861843601586,-0.18589445133259158,-0.37518861843601586,-0.5212925446921142,-0.5149361830926428,-0.8521221082036453,-0.18589445133259158,-1.182064412724084,-0.9683537922271584,0.11854824465940587,-0.8776217167320867,-1.0658327287005707,-0.07616546973884057,-0.547679412211648,-0.044322813380222974,-0.547679412211648,1.0669956768998428,-0.547679412211648,-0.547679412211648,-0.547679412211648,0.40076802002878903,0.0963253240367915,-0.17292648285262996,-0.547679412211648,0.40076802002878903,-0.547679412211648,-0.547679412211648,-0.40596143342898844,0.0391656415242852,-0.07710228404348986,0.11854824465940587,-0.547679412211648,-1.0658327287005707,-0.18589445133259158,0.7508133243270854,-0.8521221082036453,0.7755209493878069,-0.7613900327085731,-0.7613900327085731,-0.8521221082036453,-0.37518861843601586,0.3995322917523794,-0.21863768045159676,-0.9683537922271584,-0.8521221082036453,0.0963253240367915,1.0669956768998428,-0.07710228404348986,-0.37518861843601586,-0.8521221082036453,1.5970801961589105,0.7625529809078455,-0.21049348710064525,-0.18589445133259158,-1.0721890903000424,-0.4773691788446275,0.5900621871322134,-0.631167867116156,0.6985554404495549,-0.547679412211648,-0.8521221082036453,-0.8521221082036453,-1.0658327287005707,-0.9683537922271584,0.2910390384350381,0.11854824465940587,-0.09516237583751953,-0.07740119801525008,-1.182064412724084,-1.0658327287005707,0.40076802002878903,0.40076802002878903,0.11854824465940587,0.4710782533958094,-0.547679412211648,-0.547679412211648,-0.019906359986721814,0.11854824465940587,-1.0658327287005707,0.150208318643471,-0.547679412211648,-0.07740119801525008,0.3040070069149995,-0.09516237583751953,-0.18589445133259158,-1.0658327287005707,-0.8584784698031169,-0.37518861843601586,-0.18589445133259158,0.7039749877443767,0.40076802002878903,-0.3996050718295171,-0.547679412211648,-0.547679412211648,-0.5158367558530303,-0.18589445133259158,-0.547679412211648,0.40076802002878903,-0.8521221082036453,-0.9573394753832295],\"xaxis\":\"x\",\"y\":[0.38818995968970577,-0.8076101464579487,-0.1492571570419978,1.1580636909251345,0.431630717002536,0.8591663880233944,0.45202880079123803,-0.07266372177507961,1.1332197681944391,0.34393575638448715,-0.2130959981435285,-0.5204137982360939,-0.5768857816323018,-0.4132271533911797,-0.513046940530771,1.06266156167764,-0.513046940530771,-0.2735708208384652,-0.1492571570419978,0.9988227205761092,-0.1492571570419978,-0.8842035817248671,1.06266156167764,-0.2130959981435285,-0.7165421141850162,-0.19428730416295242,-0.03856976751541691,-0.03856976751541691,1.0754161558430275,-0.6576754341498149,-0.8842035817248671,-0.80155604664276,-0.8203647406233364,-0.2130959981435285,-0.5002923463653837,1.0857949244344907,1.0176314145566852,0.7553437615850748,-0.07266372177507961,-0.8203647406233364,1.06266156167764,-0.07266372177507961,1.2262272008029396,-0.22950999548511133,0.12071918311248175,-0.03856976751541691,-0.1492571570419978,0.09758582035563096,1.0857949244344907,0.8932603422830572,1.1496337655360214,-0.1151632027823353,0.13167977461529362,0.49546955810406695,-0.2130959981435285,0.9988227205761092,-0.49423824655019494,-0.8203647406233364,-0.2761588954293249,0.7784771243419255,0.6988717781888668,0.3975367627428735,-0.8203647406233364,0.26734232111756884,1.06266156167764,0.7329657324485297,1.06266156167764,0.08087215959714195,-0.2130959981435285,-0.2130959981435285,-0.03856976751541691,0.43840252652135175,-0.8842035817248671,-0.2130959981435285,0.9988227205761092,0.3975367627428735,-0.2130959981435285,-0.8842035817248671,-0.2130959981435285,-0.1492571570419978,-0.2130959981435285,0.09758582035563096,-0.2130959981435285,-0.06228495318361625,-0.8203647406233364,-0.1492571570419978,-0.4364535052638527,-0.513046940530771,1.06266156167764,-0.513046940530771,0.48018429782498045,0.4613756038444042,-0.1492571570419978,1.06266156167764,-0.03856976751541691,-0.1151632027823353,0.9988227205761092,-0.10240860861694787,-0.07266372177507961,-0.5204137982360939,-0.2130959981435285,0.866031151111656,-0.2130959981435285,0.32771513699477073,-0.2130959981435285,-0.2130959981435285,-0.2130959981435285,-0.8842035817248671,-0.8203647406233364,-0.3527523306962432,-0.2130959981435285,-0.8842035817248671,-0.2130959981435285,-0.2130959981435285,1.1580636909251345,0.15746559486406023,-0.5580770876517258,0.9988227205761092,-0.2130959981435285,-0.07266372177507961,1.06266156167764,0.6186189397457532,-0.1492571570419978,-1.0238599142775817,-0.1365025628766102,-0.1365025628766102,-0.1492571570419978,-0.513046940530771,0.7858439820472483,0.3881899596897073,-0.1151632027823353,-0.1492571570419978,-0.8203647406233364,0.32771513699477073,-0.5580770876517258,-0.513046940530771,-0.1492571570419978,0.17164480710047322,0.3915539780963016,0.3975367627428735,1.06266156167764,-0.05385502779450333,-0.28891348959471225,0.691504920483544,0.49546955810406695,0.7784771243419255,-0.2130959981435285,-0.1492571570419978,-0.1492571570419978,-0.07266372177507961,-0.1151632027823353,0.6988717781888668,0.9988227205761092,1.0754161558430275,1.1496337655360214,-0.03856976751541691,-0.07266372177507961,-0.8842035817248671,-0.8842035817248671,0.9988227205761092,-0.9600210731760506,-0.2130959981435285,-0.2130959981435285,-0.7862707863636739,0.9988227205761092,-0.07266372177507961,0.06784093351376279,-0.2130959981435285,1.1496337655360214,-0.7165421141850162,1.0754161558430275,1.06266156167764,-0.07266372177507961,-0.13044846306142155,-0.513046940530771,1.06266156167764,0.7220051409457175,-0.8842035817248671,1.1392549969445582,-0.2130959981435285,-0.2130959981435285,1.1733489512042208,1.06266156167764,-0.2130959981435285,-0.8842035817248671,-0.1492571570419978,0.014308482083302003],\"yaxis\":\"y\",\"type\":\"scattergl\"},{\"hovertemplate\":\"color=+1<br>0=%{x}<br>1=%{y}<extra></extra>\",\"legendgroup\":\"+1\",\"marker\":{\"color\":\"#00cc96\",\"symbol\":\"circle\"},\"mode\":\"markers\",\"name\":\"+1\",\"showlegend\":true,\"x\":[0.3754147523306386,0.11854824465940587,-0.547679412211648,-0.3679449978454519,0.11854824465940587,0.7548145502016735,-1.182064412724084,-0.37518861843601586,0.1561152489074211,-0.8521221082036453,-1.0658327287005707,-0.22499404205106818,0.18705739953186365,-0.547679412211648,0.7625529809078455,-0.8521221082036453,-0.4914203024595294,0.11854824465940587,-0.07074592244401841,-0.5149361830926428,-0.38060816573083806,-0.547679412211648,-0.7613900327085731,-0.37518861843601586,-0.37518861843601586,-0.11738529646013389,1.4353922446593894,-1.0658327287005707,-0.07074592244401841,0.7755209493878069,-0.07616546973884057,0.11854824465940587,0.2270414979767474,-0.3996050718295171,-0.37518861843601586,0.1044534523537627,-0.3996050718295171,0.3040070069149995,-0.8521221082036453,0.4933011740184239,-0.21863768045159676,0.40076802002878903,-0.07074592244401841,-0.4914203024595294,-0.043422240619835274,-0.8521221082036453,0.11219188305993448,-0.8521221082036453,0.54884236041092,1.441748606258861,0.4933011740184239,0.16425944225837272,0.43261067638740663,-1.182064412724084,-0.03800269332501312,0.2910390384350381,0.11854824465940587,0.11854824465940587,0.8464471984571331,-0.37518861843601586,-0.21049348710064525,0.4933011740184239,-0.3605051659529804,1.441748606258861,-0.38060816573083806,0.3040070069149995,0.5954817344270354,-0.5540357738111193,-0.07074592244401841,0.5954817344270354,-0.15965392464334863,0.06958998723194057,0.2270414979767474,-1.0658327287005707,-0.8839780783315582,-0.37518861843601586,-0.8521221082036453,0.0963253240367915,0.11854824465940587,-0.37518861843601586,-0.05759537158950426,-0.18138283691842447,0.0963253240367915,0.7625529809078455,0.2519394477165613,-0.547679412211648,0.11854824465940587,0.5954817344270354,-0.18589445133259158,0.18705739953186365,0.426254314787935,-0.07710228404348986,-0.38154498003548737,1.0669956768998428,-0.547679412211648,-0.5540357738111193,0.1930789207733731,-0.37518861843601586,1.441748606258861,0.0963253240367915,-0.8130222023271089,-0.8521221082036453,-0.37518861843601586,0.0963253240367915,0.40076802002878903,-0.3620380675815017,-0.547679412211648,0.7755209493878069,-0.21049348710064525,0.39411274445755723,-0.07616546973884057,0.8710462342251867,0.2910390384350381,0.2910390384350381,-1.0658327287005707,-0.1432200605045971,-0.18589445133259158,-0.8521221082036453,-0.547679412211648,0.3040070069149995,-0.8521221082036453,-0.5888992389329414,-0.5149361830926428,0.2610204553721622,-0.11738529646013389,-0.3360887125594794,-0.06443322953528859,-0.8521221082036453,-0.21049348710064525,-0.07074592244401841,0.40076802002878903,-0.547679412211648,-0.37518861843601586,0.11854824465940587,0.40076802002878903,-0.547679412211648,0.26644000266698437,-0.8521221082036453,-0.8521221082036453,-0.5540357738111193,-0.37518861843601586,-0.8521221082036453,-0.0004356890769978849,0.40076802002878903,0.7625529809078455,0.2910390384350381,-0.8521221082036453,0.0963253240367915,-0.07074592244401841,-0.2845002116316853,0.3040070069149995,-0.7613900327085731],\"xaxis\":\"x\",\"y\":[0.7304350663348314,0.9988227205761092,-0.2130959981435285,0.20827320988221193,0.9988227205761092,0.5126201362143459,-0.03856976751541691,-0.513046940530771,0.24853362713699273,-0.1492571570419978,-0.07266372177507961,0.4069986536702833,-0.8076101464579487,-0.2130959981435285,0.3915539780963016,-0.1492571570419978,-0.47895298627110844,0.9988227205761092,-0.5768857816323018,0.4613756038444042,-0.45657495713456303,-0.2130959981435285,-0.1365025628766102,-0.513046940530771,-0.513046940530771,-0.743771305356418,0.20686749842263252,-0.07266372177507961,-0.5768857816323018,-1.0238599142775817,-0.5204137982360939,0.9988227205761092,1.0857949244344907,1.1392549969445582,-0.513046940530771,1.1386975726747293,1.1392549969445582,-0.7165421141850162,-0.1492571570419978,0.8591663880233944,0.3881899596897073,-0.8842035817248671,-0.5768857816323018,-0.47895298627110844,0.15405780375183897,-0.1492571570419978,1.0176314145566852,-0.1492571570419978,0.46814741336322,0.18805880444205622,0.8591663880233944,0.25788043019015877,0.5022413676228825,-0.03856976751541691,0.09758582035563096,0.6988717781888668,0.9988227205761092,0.9988227205761092,-0.18659861698008368,-0.513046940530771,0.3975367627428735,0.8591663880233944,1.1569349538626383,0.18805880444205622,-0.45657495713456303,-0.7165421141850162,0.6350329370873362,-0.19428730416295242,-0.5768857816323018,0.6350329370873362,0.18815175801150175,0.8965313715738294,1.0857949244344907,-0.07266372177507961,-0.08359991463637152,-0.513046940530771,-0.1492571570419978,-0.8203647406233364,0.9988227205761092,-0.513046940530771,0.3251270624039109,-0.356848159110794,-0.8203647406233364,0.3915539780963016,0.043208870181510185,-0.2130959981435285,0.9988227205761092,0.6350329370873362,1.06266156167764,-0.8076101464579487,0.5210500616034585,-0.5580770876517258,-0.49423824655019494,0.32771513699477073,-0.2130959981435285,-0.19428730416295242,-0.5063275751155032,-0.513046940530771,0.18805880444205622,-0.8203647406233364,-0.1315772001239179,-0.1492571570419978,-0.513046940530771,-0.8203647406233364,-0.8842035817248671,0.38896590350544175,-0.2130959981435285,-1.0238599142775817,0.3975367627428735,0.8423159654434564,-0.5204137982360939,0.47852618195468316,0.6988717781888668,0.6988717781888668,-0.07266372177507961,0.26115145948093077,1.06266156167764,-0.1492571570419978,-0.2130959981435285,-0.7165421141850162,-0.1492571570419978,-0.4364535052638527,0.4613756038444042,0.09021896265030814,-0.743771305356418,-0.49536698361269116,-0.2657801268378615,-0.1492571570419978,0.3975367627428735,-0.5768857816323018,-0.8842035817248671,-0.2130959981435285,-0.513046940530771,0.9988227205761092,-0.8842035817248671,-0.2130959981435285,0.03374697925410019,-0.1492571570419978,-0.1492571570419978,-0.19428730416295242,-0.513046940530771,-0.1492571570419978,-0.6527032730834856,-0.8842035817248671,0.3915539780963016,0.6988717781888668,-0.1492571570419978,-0.8203647406233364,-0.5768857816323018,-0.170377997590367,-0.7165421141850162,-0.13650256287661025],\"yaxis\":\"y\",\"type\":\"scattergl\"},{\"hovertemplate\":\"color=+4<br>0=%{x}<br>1=%{y}<extra></extra>\",\"legendgroup\":\"+4\",\"marker\":{\"color\":\"#ab63fa\",\"symbol\":\"circle\"},\"mode\":\"markers\",\"name\":\"+4\",\"showlegend\":true,\"x\":[-0.17292648285262996,-1.0658327287005707,-1.0721890903000424,-0.18589445133259158,-1.182064412724084,-0.8521221082036453,-0.547679412211648,-0.8521221082036453,-0.8521221082036453,-0.9683537922271584,-0.5294367380430658,-0.7613900327085731,-0.07074592244401841,-0.8584784698031169,-0.7677463943080449,-0.8521221082036453,-0.8521221082036453,-0.4391861588943064,-0.3996050718295171,-1.182064412724084,-0.8521221082036453,-1.182064412724084,-0.631167867116156,-1.0658327287005707,-0.547679412211648,-0.8521221082036453,-0.7613900327085731,-0.5149361830926428,-1.0658327287005707,-0.547679412211648,-0.18589445133259158,-0.8521221082036453,-0.8521221082036453,-0.302126135356105,-0.8521221082036453,0.11854824465940587,0.39411274445755723,-0.547679412211648,-0.5149361830926428,-0.18589445133259158,-1.1884207743235558,-0.9683537922271584,-0.06395173318897573,-0.547679412211648,-0.18589445133259158,-0.8521221082036453,-0.547679412211648,-0.4136998641351602,0.16845099281205306,-0.7613900327085731,-0.547679412211648,-0.8584784698031169,0.11854824465940587,-0.8521221082036453,-0.5158367558530303,-0.18589445133259158,-0.21863768045159676,-0.9683537922271584,-0.5221931174525019,-0.547679412211648,-0.40734350253568885,-1.0658327287005707,-0.8521221082036453,0.11854824465940587,-0.8521221082036453,-0.547679412211648,-0.547679412211648,-0.5149361830926428,-1.182064412724084,-0.8521221082036453,-0.8521221082036453,-0.8521221082036453,-0.17292648285262996,-0.21863768045159676,-0.8521221082036453,-0.8521221082036453,-1.0658327287005707,-0.8521221082036453,-0.8521221082036453,-0.18589445133259158,-0.6895468977130315,-0.3996050718295171,-1.1884207743235558,-0.547679412211648,-0.18589445133259158,-1.0658327287005707,-0.8521221082036453,-0.5149361830926428,-0.547679412211648,-0.8521221082036453,-0.4323483009485222,-0.43870466254799373,-0.8448784876130813,-0.547679412211648,-0.18589445133259158,0.11854824465940587,-1.182064412724084,-0.9683537922271584,-0.18589445133259158,0.11854824465940587,-0.7613900327085731,0.27387983455945575,-0.7613900327085731,0.16845099281205306,-0.5158367558530303,-0.21049348710064525,0.4933011740184239,-0.3679449978454519,0.11854824465940587,-0.8521221082036453,-1.182064412724084,-0.547679412211648,-0.8584784698031169,-0.18589445133259158,-1.182064412724084,-0.5540357738111193,-0.547679412211648,-0.09516237583751953,-0.07740119801525008,0.11854824465940587,-0.48582553291042185,-0.547679412211648,-0.37518861843601586,-0.547679412211648,-0.547679412211648,-0.547679412211648,-0.7613900327085731,0.27387983455945575,-0.18589445133259158,-1.1884207743235558,-0.547679412211648,-0.8073114833650662,-0.547679412211648,-1.1884207743235558,-1.182064412724084,-0.547679412211648,-0.547679412211648,-0.8521221082036453,0.1561152489074211,-0.547679412211648,-0.8598605389098173,0.2910390384350381,0.11854824465940587,-0.3996050718295171,0.11854824465940587,-0.7367909969405197,-0.019906359986721814,-0.8584784698031169,-0.547679412211648,-0.547679412211648,-0.4758362772161063,-0.16059073894799789,-0.7436288548863037,-0.3996050718295171,-0.8521221082036453,-0.4391861588943064,-0.17292648285262996,-1.0658327287005707,-0.6639110962351611,-1.182064412724084],\"xaxis\":\"x\",\"y\":[-0.35275233069624323,-0.07266372177507961,-0.05385502779450333,1.06266156167764,-0.03856976751541691,-0.1492571570419978,-0.2130959981435285,-0.1492571570419978,-0.1492571570419978,-0.1151632027823353,0.4708374947718144,-0.1365025628766102,-0.5768857816323018,-0.13044846306142155,-0.11769386889603425,-0.1492571570419978,-0.1492571570419978,-0.12612379428514703,1.1392549969445582,-0.03856976751541691,-0.1492571570419978,-0.03856976751541691,0.49546955810406695,-0.07266372177507961,-0.2130959981435285,-0.1492571570419978,-0.1365025628766102,0.4613756038444042,-0.07266372177507961,-0.2130959981435285,1.06266156167764,-0.1492571570419978,-0.1492571570419978,1.0967555159373028,-0.1492571570419978,0.9988227205761092,0.8423159654434564,-0.2130959981435285,0.4613756038444042,1.06266156167764,-0.019761073534840863,-0.1151632027823353,0.34393575638448715,-0.2130959981435285,1.06266156167764,-0.1492571570419978,-0.2130959981435285,1.2791298490431788,0.7517744264291056,-0.1365025628766102,-0.2130959981435285,-0.13044846306142155,0.9988227205761092,-0.1492571570419978,1.1733489512042208,1.06266156167764,0.3881899596897073,-0.1151632027823353,1.1921576451847973,-0.2130959981435285,1.2603211550626023,-0.07266372177507961,-0.1492571570419978,0.9988227205761092,-0.1492571570419978,-0.2130959981435285,-0.2130959981435285,0.4613756038444042,-0.03856976751541691,-0.1492571570419978,-0.1492571570419978,-0.1492571570419978,-0.3527523306962432,0.3881899596897073,-0.1492571570419978,-0.1492571570419978,-0.07266372177507961,-0.1492571570419978,-0.1492571570419978,1.06266156167764,0.5556489960294023,1.1392549969445582,-0.019761073534840863,-0.2130959981435285,1.06266156167764,-0.07266372177507961,-0.1492571570419978,0.4613756038444042,-0.2130959981435285,-0.1492571570419978,0.4647833949566254,0.4835920889372018,0.572062993370985,-0.2130959981435285,1.06266156167764,0.9988227205761092,-0.03856976751541691,-0.1151632027823353,1.06266156167764,0.9988227205761092,-0.1365025628766102,0.9824087232345264,-0.1365025628766102,0.7517744264291056,1.1733489512042208,0.3975367627428735,0.8591663880233944,0.20827320988221193,0.9988227205761092,-0.1492571570419978,-0.03856976751541691,-0.2130959981435285,-0.13044846306142155,1.06266156167764,-0.03856976751541691,-0.19428730416295242,-0.2130959981435285,1.0754161558430275,1.1496337655360214,0.9988227205761092,-0.29300931800926316,-0.2130959981435285,-0.513046940530771,-0.2130959981435285,-0.2130959981435285,-0.2130959981435285,-0.1365025628766102,0.9824087232345264,1.06266156167764,-0.019761073534840863,-0.2130959981435285,-0.17822610006813142,-0.2130959981435285,-0.019761073534840863,-0.03856976751541691,-0.2130959981435285,-0.2130959981435285,-0.1492571570419978,0.24853362713699273,-0.2130959981435285,-0.02819099892395369,0.6988717781888668,0.9988227205761092,1.1392549969445582,0.9988227205761092,0.5286222360581564,-0.7862707863636739,-0.13044846306142155,-0.2130959981435285,-0.2130959981435285,0.4790555607624842,0.15048846859586984,-0.06228495318361625,1.1392549969445582,-0.1492571570419978,-0.12612379428514703,-0.3527523306962432,-0.07266372177507961,-0.17900204388386606,-0.03856976751541691],\"yaxis\":\"y\",\"type\":\"scattergl\"},{\"hovertemplate\":\"color=+5<br>0=%{x}<br>1=%{y}<extra></extra>\",\"legendgroup\":\"+5\",\"marker\":{\"color\":\"#FFA15A\",\"symbol\":\"circle\"},\"mode\":\"markers\",\"name\":\"+5\",\"showlegend\":true,\"x\":[-0.547679412211648,-0.3996050718295171,0.4933011740184239,-0.19225081293206298,-0.547679412211648,-0.21049348710064525,-1.0658327287005707,-1.182064412724084,-0.06395173318897573,-0.5158367558530303,-1.182064412724084,-0.3996050718295171,-0.39234782231159804,0.11854824465940587,-0.8521221082036453,-0.547679412211648,-0.09516237583751953,-0.547679412211648,-1.0721890903000424,-0.547679412211648,-0.8776217167320867,-1.1884207743235558,-1.182064412724084,-0.8521221082036453,0.11854824465940587,-1.182064412724084,-0.17292648285262996,-0.547679412211648,-0.7613900327085731,-0.547679412211648,-0.5158367558530303,-0.547679412211648,-1.182064412724084,-0.547679412211648,-0.9105011388005212,-0.8521221082036453,-0.21863768045159676,-1.0658327287005707,-1.0735711594067425,-0.547679412211648,-1.182064412724084,-1.182064412724084,-1.0658327287005707,-1.182064412724084,-0.43870466254799373,-0.8521221082036453,-0.547679412211648,-0.8521221082036453,-0.7613900327085731,-0.06395173318897573,-0.09516237583751953,-1.0658327287005707,-1.182064412724084,-0.547679412211648,-1.0658327287005707,-0.18589445133259158,-0.547679412211648,-1.182064412724084,-1.182064412724084,-0.8584784698031169,-1.0658327287005707,-0.8598605389098173,-1.0721890903000424,-0.547679412211648,-1.182064412724084,-0.18589445133259158,-0.547679412211648,-0.547679412211648,-1.0658327287005707,-1.0658327287005707,0.2610204553721622,-0.547679412211648,-0.3996050718295171,0.15764815053594242,-0.8521221082036453,0.2131456682376969,-0.547679412211648,-1.0658327287005707,-0.8521221082036453,-0.8521221082036453,-1.182064412724084,-0.9747101538266304,-0.5230803764435945,-0.8448784876130813,-1.182064412724084,-0.5149361830926428,-1.182064412724084,-1.182064412724084,-1.0658327287005707,-0.43870466254799373,-0.18589445133259158,-0.21863768045159676,-0.21049348710064525,-1.182064412724084,-0.9683537922271584,-0.8521221082036453,-1.182064412724084,-0.18589445133259158,-1.0658327287005707,-0.547679412211648,-0.9683537922271584,-1.182064412724084,-0.547679412211648,-0.18589445133259158,-1.0658327287005707,-0.302126135356105,-0.7613900327085731,0.11854824465940587,-0.8584784698031169,-0.8521221082036453,0.311446838807471,-0.21049348710064525,-0.547679412211648,-0.8521221082036453,-0.8530226809640331,-0.18589445133259158,-0.8530226809640331,-0.9573394753832293,-0.8521221082036453,-0.5158367558530303,-0.7613900327085731,0.11854824465940587,-0.18589445133259158,-0.17292648285262996,-0.14832744708457635,-1.0658327287005707,-0.17292648285262996,0.11854824465940587,-0.5149361830926428,0.01333087747982196,-0.5158367558530303,-0.9747101538266304,0.27387983455945575,-1.0721890903000424,-0.18589445133259158,-0.7613900327085731,-0.7367909969405197,-0.8448784876130813,-0.7613900327085731,-0.18589445133259158,-0.8130222023271089,0.11854824465940587,0.11854824465940593],\"xaxis\":\"x\",\"y\":[-0.2130959981435285,1.1392549969445582,0.8591663880233944,1.0814702556582163,-0.2130959981435285,0.3975367627428735,-0.07266372177507961,-0.03856976751541691,0.34393575638448715,1.1733489512042208,-0.03856976751541691,1.1392549969445582,-0.22950999548511133,0.9988227205761092,-0.1492571570419978,-0.2130959981435285,1.0754161558430275,-0.2130959981435285,-0.05385502779450333,-0.2130959981435285,-0.10240860861694787,-0.019761073534840863,-0.03856976751541691,-0.1492571570419978,0.9988227205761092,-0.03856976751541691,-0.3527523306962432,-0.2130959981435285,-0.1365025628766102,-0.2130959981435285,1.1733489512042208,-0.2130959981435285,-0.03856976751541691,-0.2130959981435285,-0.08907771911666215,-0.1492571570419978,0.3881899596897073,-0.07266372177507961,0.04840243634296458,-0.2130959981435285,-0.03856976751541691,-0.03856976751541691,-0.07266372177507961,-0.03856976751541691,0.4835920889372018,-0.1492571570419978,-0.2130959981435285,-0.1492571570419978,-0.1365025628766102,0.34393575638448715,1.0754161558430275,-0.07266372177507961,-0.03856976751541691,-0.2130959981435285,-0.07266372177507961,1.06266156167764,-0.2130959981435285,-0.03856976751541691,-0.03856976751541691,-0.13044846306142155,-0.07266372177507961,-0.02819099892395369,-0.05385502779450333,-0.2130959981435285,-0.03856976751541691,1.06266156167764,-0.2130959981435285,-0.2130959981435285,-0.07266372177507961,-0.07266372177507961,0.09021896265030814,-0.2130959981435285,1.1392549969445582,1.0165026774941892,-0.1492571570419978,0.9553980516090307,-0.2130959981435285,-0.07266372177507961,-0.1492571570419978,-0.1492571570419978,-0.03856976751541691,-0.09635450880175901,0.45202880079123803,0.572062993370985,-0.03856976751541691,0.4613756038444042,-0.03856976751541691,-0.03856976751541691,-0.07266372177507961,0.4835920889372018,1.06266156167764,0.3881899596897073,0.3975367627428735,-0.03856976751541691,-0.1151632027823353,-0.1492571570419978,-0.03856976751541691,1.06266156167764,-0.07266372177507961,-0.2130959981435285,-0.1151632027823353,-0.03856976751541691,-0.2130959981435285,1.06266156167764,-0.07266372177507961,1.0967555159373028,-0.1365025628766102,0.9988227205761092,-0.13044846306142155,-0.1492571570419978,0.23211962979541,0.3975367627428735,-0.2130959981435285,-0.1492571570419978,0.5627161903178188,1.06266156167764,0.5627161903178188,0.014308482083301943,-0.1492571570419978,1.1733489512042208,-0.1365025628766102,0.9988227205761092,1.06266156167764,-0.3527523306962432,0.3123724682385235,-0.07266372177507961,-0.3527523306962432,0.9988227205761092,0.4613756038444042,1.162388359701409,1.1733489512042208,-0.09635450880175901,0.9824087232345264,-0.05385502779450333,1.06266156167764,-0.1365025628766102,0.5286222360581564,0.572062993370985,-0.1365025628766102,1.06266156167764,-0.1315772001239179,0.9988227205761092,0.998822720576109],\"yaxis\":\"y\",\"type\":\"scattergl\"},{\"hovertemplate\":\"color=-5<br>0=%{x}<br>1=%{y}<extra></extra>\",\"legendgroup\":\"-5\",\"marker\":{\"color\":\"#19d3f3\",\"symbol\":\"circle\"},\"mode\":\"markers\",\"name\":\"-5\",\"showlegend\":true,\"x\":[1.7055734494762522,0.7755209493878069,0.7755209493878069,1.1373059102668632,0.7039749877443767,-0.17292648285262996,1.7055734494762522,0.4710782533958094,1.7055734494762522,1.5970801961589105,1.5970801961589105,0.7755209493878069,0.7755209493878069,0.1561152489074211,1.7055734494762522,0.7755209493878069,1.441748606258861,1.039345792605198,0.5891253728275639,0.7755209493878069,1.292637500166913,0.7755209493878069,1.5970801961589105,0.3944116584293177,1.6992170878767805,0.917884570807895,1.5970801961589105,0.6408943332123018,1.7055734494762522,0.40076802002878903,1.11270687449881,1.441748606258861,0.6264098432958595,1.292637500166913,1.259894271047908,0.9702346637860534,1.259894271047908,0.9308525392878569,0.9308525392878569,1.2223272667998928,1.11270687449881,-0.8521221082036453,1.1045626811478582,0.665791967794056,1.0669956768998428,1.2603000336926875,1.259894271047908,1.441748606258861,1.5970801961589105,0.14113594887537065,0.0963253240367915,1.175488930217184,1.2223272667998928,1.0461836505509827,0.4710782533958094,0.7755209493878069,1.2848990694607412,0.4710782533958094,0.4710782533958094,0.9308525392878569,1.5970801961589105,0.7755209493878069,1.1373059102668632,0.7755209493878069,1.2848990694607412,0.9702346637860534,0.7755209493878069,0.7755209493878069,1.7055734494762522,1.5502418595762024,0.6264098432958595,1.175488930217184,0.8082641785068124,-0.37518861843601586,1.5970801961589105,1.5970801961589105,1.5502418595762024,0.8082641785068124,0.5811044083416721,1.441748606258861,0.7755209493878069,1.441748606258861,1.4353922446593894,0.9308525392878569,1.7055734494762522,1.441748606258861,0.579571506713151,0.7755209493878069,0.9635957684068618,1.1373059102668632,1.1045626811478582,0.9635957684068618,0.1354252299133279,0.7755209493878069,0.9308525392878569,0.9558573377006901,0.6330487386750508,1.259894271047908,1.5970801961589105,1.7055734494762522,1.441748606258861,1.7055734494762522,0.6017944273357653,1.4353922446593894,1.1373059102668632,-0.17596328962360236,0.6005750792513962,1.5970801961589105,1.7055734494762522,1.441748606258861,0.45298223521557784,1.5970801961589105,0.42536705579684264,1.7055734494762522,1.1309495486673922,1.5970801961589105,0.7755209493878069,0.7315975835403203,1.441748606258861,0.9308525392878569,0.8840142027051482,1.441748606258861,0.7625529809078455,0.6266923770755793,1.7055734494762522,0.7755209493878069,1.7055734494762522,0.7379539451397917,0.5811044083416721,1.5970801961589105,0.7691645877883355,1.2848990694607412,0.0963253240367915,0.9308525392878569,0.8192788105088017,0.9308525392878569,0.963878302186582,1.441748606258861,1.5502418595762024,0.4710782533958094,0.7755209493878069,1.5970801961589105,0.9308525392878569,0.5618103288908818,0.7755209493878069,0.7755209493878069,1.7055734494762522,1.11270687449881,0.9308525392878569,1.2848990694607412,0.7755209493878069,1.5502418595762024],\"xaxis\":\"x\",\"y\":[0.25861701095885486,-1.0238599142775817,-1.0238599142775817,0.25189764554358707,0.7220051409457175,-0.3527523306962432,0.25861701095885486,-0.9600210731760506,0.25861701095885486,0.17164480710047322,0.17164480710047322,-1.0238599142775817,-1.0238599142775817,0.24853362713699273,0.25861701095885486,-1.0238599142775817,0.18805880444205622,-0.953301707760783,0.6538416310679123,-1.0238599142775817,0.23548364820200426,-1.0238599142775817,0.17164480710047322,-0.865394887744291,0.27742570493943114,0.3751399807547186,0.17164480710047322,0.9638185487998562,0.25861701095885486,-0.8842035817248671,-0.4132271533911797,0.18805880444205622,-0.9764350705176338,0.23548364820200426,-0.43898795378592853,0.4953766045346214,-0.43898795378592853,-1.0402739116191646,-1.0402739116191646,0.31130113965318784,-0.4132271533911797,-0.1492571570419978,-0.4225739564443456,0.5592154456361523,0.32771513699477073,-0.30857499261471816,-0.43898795378592853,0.18805880444205622,0.17164480710047322,-0.84933368364947,-0.8203647406233364,0.4146873408531522,0.31130113965318784,-0.3623945185190101,-0.9600210731760506,-1.0238599142775817,0.3565498063200485,-0.9600210731760506,-0.9600210731760506,-1.0402739116191646,0.17164480710047322,-1.0238599142775817,0.25189764554358707,-1.0238599142775817,0.3565498063200485,0.4953766045346214,-1.0238599142775817,-1.0238599142775817,0.25861701095885486,0.2750310083004376,-0.9764350705176338,0.4146873408531522,-0.3493883122896487,-0.513046940530771,0.17164480710047322,0.17164480710047322,0.2750310083004376,-0.3493883122896487,-0.10507981896047283,0.18805880444205622,-1.0238599142775817,0.18805880444205622,0.20686749842263252,-1.0402739116191646,0.25861701095885486,0.18805880444205622,-0.8730488693176693,-1.0238599142775817,-0.36580230963123184,0.25189764554358707,-0.4225739564443456,-0.36580230963123184,-0.8026847837052561,-1.0238599142775817,-1.0402739116191646,-0.24473615151318745,-0.11525615635178064,-0.43898795378592853,0.17164480710047322,0.25861701095885486,0.18805880444205622,0.25861701095885486,0.9461385918817763,0.20686749842263252,0.25189764554358707,-0.4133201425070021,0.028487694319715227,0.17164480710047322,0.25861701095885486,0.18805880444205622,-0.7141474175460228,0.17164480710047322,-0.21907878279010026,0.25861701095885486,0.2707063395241631,0.17164480710047322,-1.0238599142775817,-0.25476212685788896,0.18805880444205622,-1.0402739116191646,-0.9368877104192,0.18805880444205622,0.3915539780963016,-0.0964474623712044,0.25861701095885486,-1.0238599142775817,0.25861701095885486,-0.2735708208384652,-0.10507981896047283,0.17164480710047322,-1.0050512202970059,0.3565498063200485,-0.8203647406233364,-1.0402739116191646,-0.8578995785132884,-1.0402739116191646,0.5141852985151977,0.18805880444205622,0.2750310083004376,-0.9600210731760506,-1.0238599142775817,0.17164480710047322,-1.0402739116191646,-0.9472664790106635,-1.0238599142775817,-1.0238599142775817,0.25861701095885486,-0.4132271533911797,-1.0402739116191646,0.3565498063200485,-1.0238599142775817,0.27503100830043764],\"yaxis\":\"y\",\"type\":\"scattergl\"},{\"hovertemplate\":\"color=-2<br>0=%{x}<br>1=%{y}<extra></extra>\",\"legendgroup\":\"-2\",\"marker\":{\"color\":\"#FF6692\",\"symbol\":\"circle\"},\"mode\":\"markers\",\"name\":\"-2\",\"showlegend\":true,\"x\":[0.4710782533958094,0.14975888730794973,0.7755209493878069,0.7625529809078455,0.6017944273357653,0.5356481408656643,0.40076802002878903,0.2910390384350381,-0.17292648285262996,1.441748606258861,1.292637500166913,0.9702346637860534,1.7055734494762522,0.40076802002878903,0.40076802002878903,1.0669956768998428,0.7755209493878069,0.4647218917963382,-0.547679412211648,0.4520813472971306,0.40076802002878903,-0.8521221082036453,0.7755209493878069,0.11854824465940587,0.4508822427492551,0.7755209493878069,0.7548145502016735,-0.547679412211648,1.1309495486673922,0.7755209493878069,1.441748606258861,0.3944116584293177,1.039345792605198,-0.18589445133259158,1.0669956768998428,0.7379539451397917,0.7755209493878069,1.441748606258861,-0.547679412211648,-0.07074592244401841,0.5900621871322134,0.3172795651242809,0.41250026023234093,0.5092612733461306,-0.07074592244401841,0.40076802002878903,0.4335112491477942,1.7055734494762522,1.441748606258861,0.40076802002878903,-0.07074592244401841,-0.49777666405900084,0.8082641785068124,0.9702346637860534,0.54884236041092,0.40076802002878903,-0.019906359986721814,1.11270687449881,0.5560996099288388],\"xaxis\":\"x\",\"y\":[-0.9600210731760506,0.26734232111756884,-1.0238599142775817,0.3915539780963016,0.9461385918817763,-0.10395108189797671,-0.8842035817248671,0.6988717781888668,-0.3527523306962432,0.18805880444205622,0.23548364820200426,0.4953766045346214,0.25861701095885486,-0.8842035817248671,-0.8842035817248671,0.32771513699477073,-1.0238599142775817,-0.9412123791954745,-0.2130959981435285,0.6358088809030708,-0.8842035817248671,-0.1492571570419978,-1.0238599142775817,0.9988227205761092,-0.7370519399411504,-1.0238599142775817,0.5126201362143459,-0.2130959981435285,0.2707063395241631,-1.0238599142775817,0.18805880444205622,-0.865394887744291,-0.953301707760783,1.06266156167764,0.32771513699477073,-0.2735708208384652,-1.0238599142775817,0.18805880444205622,-0.2130959981435285,-0.5768857816323018,0.691504920483544,-0.17563802547727161,-0.6295699103266348,-0.7972313778664857,-0.5768857816323018,-0.8842035817248671,-0.20973197973693422,0.25861701095885486,0.18805880444205622,-0.8842035817248671,-0.5768857816323018,-0.4601442922905321,-0.3493883122896487,0.4953766045346214,0.46814741336322,-0.8842035817248671,-0.7862707863636739,-0.4132271533911797,-0.9006175790664498],\"yaxis\":\"y\",\"type\":\"scattergl\"},{\"hovertemplate\":\"color=+3<br>0=%{x}<br>1=%{y}<extra></extra>\",\"legendgroup\":\"+3\",\"marker\":{\"color\":\"#B6E880\",\"symbol\":\"circle\"},\"mode\":\"markers\",\"name\":\"+3\",\"showlegend\":true,\"x\":[0.4933011740184239,-0.8521221082036453,-1.0658327287005707,-0.547679412211648,-0.7051309229564547,-1.0658327287005707,-1.0658327287005707,-0.5149361830926428,-0.7613900327085731,-0.06395173318897573,-1.182064412724084,-1.182064412724084,-0.21049348710064525,0.40076802002878903,-0.5149361830926428,0.7625529809078455,-0.547679412211648,-0.17292648285262996,-0.019906359986721814,-0.8521221082036453,0.11854824465940587,0.11854824465940587,-0.18589445133259158,-0.42420410759757055,0.3172795651242809,-0.37518861843601586,-0.18589445133259158,-0.547679412211648,-0.547679412211648,0.5954817344270354,-0.5540357738111193,0.2732341919220271,-0.10200023378330372,-0.8521221082036453,-0.8521221082036453,-1.182064412724084,-0.302126135356105,0.11854824465940587,-0.3869645273303095,-0.8584784698031169,-0.8521221082036453,-0.18589445133259158,0.11854824465940587,-0.8521221082036453,0.3172795651242809,-0.37518861843601586,-0.9573394753832293,0.11854824465940587,-0.8521221082036453,-1.0658327287005707,-0.8530226809640331,-0.07740119801525008,-1.1884207743235558,-0.7051309229564547,-0.18589445133259158,-0.21684984870011664,0.2206851363772759,0.11854824465940587,0.11219188305993448,-0.547679412211648,-0.547679412211648,0.11854824465940587,-0.7051309229564547,-0.18589445133259158,-0.547679412211648,0.11854824465940587,0.11854824465940587,-0.29111181851217566,-1.182064412724084,-0.37518861843601586,-1.0735711594067425,-1.182064412724084,-0.9683537922271584,-0.06395173318897573,-0.09516237583751953,-1.0658327287005707,-0.8521221082036453,0.11854824465940587,-1.182064412724084,-0.3996050718295171,-1.0658327287005707,-0.7613900327085731,-0.18589445133259158,-0.7286468035895679,-0.8521221082036453,-0.8521221082036453,-0.8521221082036453,-0.547679412211648,-0.547679412211648,-0.7677463943080449,-0.4391861588943064,-1.0658327287005707,0.7755209493878069,-0.03800269332501312,-0.6393120604671079,-0.8521221082036453,-0.8521221082036453,-0.8521221082036453,0.2270414979767474,-0.8521221082036453,-0.5149361830926428,0.11854824465940587,-0.043422240619835274,0.5900621871322134,-0.7436288548863037,-0.8521221082036453,-0.18589445133259158,1.0669956768998428,-0.7613900327085731,0.7298097517888401,-1.0658327287005707,-1.182064412724084,-0.29111181851217566,-0.8521221082036453,-0.18589445133259158,0.9648151164912312,-0.7613900327085731,-0.18589445133259158,-0.10200023378330372,-1.1884207743235558,-0.5149361830926428,0.11854824465940587,-0.09516237583751953,-0.8521221082036453,-0.8521221082036453,0.5806986456968923,-0.5158367558530303,-1.182064412724084,-0.3815087384912257,-1.0658327287005707,-0.8521221082036453,-0.5149361830926428,-0.8521221082036453,-0.3996050718295171,-0.06395173318897573,-0.8521221082036453,-0.17292648285262996,-0.8521221082036453,-0.09516237583751953,-0.9683537922271584,-0.8521221082036453,-0.8521221082036453,0.11854824465940587,-0.547679412211648,0.4933011740184239,0.0963253240367915,-1.0658327287005707,-0.547679412211648,-0.547679412211648,-0.7286468035895679,-0.1401832537336247,0.11854824465940587,-0.7051309229564547,-0.8521221082036453,-0.547679412211648,-0.547679412211648,0.4335112491477942,-0.7436288548863037,-0.7286468035895679,-1.182064412724084,0.7625529809078455,-1.0658327287005707,0.0963253240367915,-0.8521221082036453,-0.8521221082036453,-0.8521221082036453,-0.8448784876130813,-0.547679412211648,0.01333087747982196,-0.547679412211648,-0.7051309229564547,-0.8521221082036453,0.11854824465940587,0.28561949114021573,-0.8521221082036453,0.0963253240367915,-0.8521221082036453,-1.182064412724084,-0.7286468035895679,-0.547679412211648,-0.547679412211648,0.6017944273357653,-0.7613900327085731,-0.7613900327085731,0.2610204553721622,0.11854824465940587,-0.8521221082036453,-0.4391861588943064,0.11854824465940587,0.0963253240367915,-0.18589445133259158,0.4792500504035221,-1.0658327287005707,-1.182064412724084,-1.182064412724084,-0.7613900327085731,-0.37518861843601586,-0.547679412211648,-0.6967905183035953,-0.547679412211648,0.7625529809078455,-0.07740119801525008,-0.4391861588943064,0.11854824465940587,-0.8521221082036453,-1.182064412724084,-0.8521221082036453,0.11854824465940587,1.0669956768998428,-1.0658327287005707,-0.547679412211648,-0.547679412211648,-0.18589445133259158,-0.8521221082036453,-0.547679412211648,-0.6639110962351611,-0.547679412211648,0.9648151164912312,-0.8521221082036453,-0.3996050718295171,-0.8521221082036453,-0.8521221082036453,-0.547679412211648,-0.8521221082036453,0.54884236041092,-0.18589445133259158,0.11854824465940587,-0.9683537922271584,-0.18589445133259158],\"xaxis\":\"x\",\"y\":[0.8591663880233944,-0.1492571570419978,-0.07266372177507961,-0.2130959981435285,-0.4023595510041899,-0.07266372177507961,-0.07266372177507961,0.4613756038444042,-0.1365025628766102,0.34393575638448715,-0.03856976751541691,-0.03856976751541691,0.3975367627428735,-0.8842035817248671,0.4613756038444042,0.3915539780963016,-0.2130959981435285,-0.3527523306962432,-0.7862707863636739,-0.1492571570419978,0.9988227205761092,0.9988227205761092,1.06266156167764,0.4741301980097915,-0.17563802547727161,-0.513046940530771,1.06266156167764,-0.2130959981435285,-0.2130959981435285,0.6350329370873362,-0.19428730416295242,0.954568517270889,0.48450896660125503,-0.1492571570419978,-0.1492571570419978,-0.03856976751541691,1.0967555159373028,0.9988227205761092,-0.43776626315398687,-0.13044846306142155,-0.1492571570419978,1.06266156167764,0.9988227205761092,-0.1492571570419978,-0.17563802547727161,-0.513046940530771,0.014308482083301943,0.9988227205761092,-0.1492571570419978,-0.07266372177507961,0.5627161903178188,1.1496337655360214,-0.019761073534840863,-0.4023595510041899,1.06266156167764,0.4163454567234496,1.1046036184150672,0.9988227205761092,1.0176314145566852,-0.2130959981435285,-0.2130959981435285,0.9988227205761092,-0.4023595510041899,1.06266156167764,-0.2130959981435285,0.9988227205761092,0.9988227205761092,1.2262272008029396,-0.03856976751541691,-0.513046940530771,0.04840243634296458,-0.03856976751541691,-0.1151632027823353,0.34393575638448715,1.0754161558430275,-0.07266372177507961,-0.1492571570419978,0.9988227205761092,-0.03856976751541691,1.1392549969445582,-0.07266372177507961,-0.1365025628766102,1.06266156167764,0.5379690391113223,-0.1492571570419978,-0.1492571570419978,-0.1492571570419978,-0.2130959981435285,-0.2130959981435285,-0.11769386889603425,-0.12612379428514703,-0.07266372177507961,-1.0238599142775817,0.09758582035563096,0.48612275505090075,-0.1492571570419978,-0.1492571570419978,-0.1492571570419978,1.0857949244344907,-0.1492571570419978,0.4613756038444042,0.9988227205761092,0.15405780375183897,0.691504920483544,-0.06228495318361625,-0.1492571570419978,1.06266156167764,0.32771513699477073,-0.1365025628766102,-0.28291762389163116,-0.07266372177507961,-0.03856976751541691,1.2262272008029396,-0.1492571570419978,1.06266156167764,0.551848587930829,-0.1365025628766102,1.06266156167764,0.48450896660125503,-0.019761073534840863,0.4613756038444042,0.9988227205761092,1.0754161558430275,-0.1492571570419978,-0.1492571570419978,-0.2354927801316833,1.1733489512042208,-0.03856976751541691,0.2553983902252536,-0.07266372177507961,-0.1492571570419978,0.4613756038444042,-0.1492571570419978,1.1392549969445582,0.34393575638448715,-0.1492571570419978,-0.3527523306962432,-0.1492571570419978,1.0754161558430275,-0.1151632027823353,-0.1492571570419978,-0.1492571570419978,0.9988227205761092,-0.2130959981435285,0.8591663880233944,-0.8203647406233364,-0.07266372177507961,-0.2130959981435285,-0.2130959981435285,0.5379690391113223,0.32171927129168965,0.9988227205761092,-0.4023595510041899,-0.1492571570419978,-0.2130959981435285,-0.2130959981435285,-0.20973197973693422,-0.06228495318361625,0.5379690391113223,-0.03856976751541691,0.3915539780963016,-0.07266372177507961,-0.8203647406233364,-0.1492571570419978,-0.1492571570419978,-0.1492571570419978,0.572062993370985,-0.2130959981435285,1.162388359701409,-0.2130959981435285,-0.4023595510041899,-0.1492571570419978,0.9988227205761092,0.7553437615850748,-0.1492571570419978,-0.8203647406233364,-0.1492571570419978,-0.03856976751541691,0.5379690391113223,-0.2130959981435285,-0.2130959981435285,0.9461385918817763,-0.1365025628766102,-0.1365025628766102,0.09021896265030814,0.9988227205761092,-0.1492571570419978,-0.12612379428514703,0.9988227205761092,-0.8203647406233364,1.06266156167764,0.6691268913469985,-0.07266372177507961,-0.03856976751541691,-0.03856976751541691,-0.1365025628766102,-0.513046940530771,-0.2130959981435285,-0.16567115438358043,-0.2130959981435285,0.3915539780963016,1.1496337655360214,-0.12612379428514703,0.9988227205761092,-0.1492571570419978,-0.03856976751541691,-0.1492571570419978,0.9988227205761092,0.32771513699477073,-0.07266372177507961,-0.2130959981435285,-0.2130959981435285,1.06266156167764,-0.1492571570419978,-0.2130959981435285,-0.17900204388386606,-0.2130959981435285,0.551848587930829,-0.1492571570419978,1.1392549969445582,-0.1492571570419978,-0.1492571570419978,-0.2130959981435285,-0.1492571570419978,0.46814741336322,1.06266156167764,0.9988227205761092,-0.1151632027823353,1.06266156167764],\"yaxis\":\"y\",\"type\":\"scattergl\"},{\"hovertemplate\":\"color=0<br>0=%{x}<br>1=%{y}<extra></extra>\",\"legendgroup\":\"0\",\"marker\":{\"color\":\"#FF97FF\",\"symbol\":\"circle\"},\"mode\":\"markers\",\"name\":\"0\",\"showlegend\":true,\"x\":[0.0963253240367915,-0.547679412211648,0.2528762620212105,-0.17292648285262996,0.05272938217005898,0.3172795651242809,-0.8521221082036453,-0.37518861843601586,0.40076802002878903,1.0669956768998428,1.292637500166913,-0.5888992389329414,0.3995322917523794,1.0669956768998428,0.5420045024651355,1.175488930217184,0.7625529809078455,-0.8521221082036453,-0.07074592244401841,0.846928694803446,-0.37518861843601586,0.11854824465940587,-1.182064412724084,0.5092612733461306,0.0963253240367915,0.7755209493878069,0.7379539451397917,-0.37518861843601586,1.5907238345594397,-0.4914203024595294,-0.07074592244401841,1.0669956768998428,-0.8521221082036453,0.5560996099288388,0.3040070069149995,0.911855633189178,-0.6967905183035953,-0.21049348710064525,0.7625529809078455,0.5891253728275639,0.2910390384350381,-0.18589445133259158,-0.2844565429409438,0.2610204553721622,-0.18589445133259158,0.8082641785068124,0.7625529809078455,0.6017944273357653,1.1373059102668632,0.40076802002878903,-0.38060816573083806,0.8710462342251867,0.7379539451397917,1.441748606258861,-0.8521221082036453,0.0963253240367915,-0.547679412211648,0.11219188305993448,0.2910390384350381,-0.37518861843601586,-0.37518861843601586,0.1612226354874004,0.2910390384350381,-0.17292648285262996,0.0963253240367915,-0.019906359986721814,-1.0658327287005707,1.5502418595762024,0.40076802002878903,-0.8521221082036453,-0.8521221082036453,-0.8584784698031169,-0.7613900327085731,0.1807010379323922,0.11854824465940587,1.441748606258861,0.07082571550835015,0.11219188305993448,0.6264098432958595,-1.1884207743235558,-0.7613900327085731,0.40076802002878903,0.7625529809078455,0.6592892653642936,0.7625529809078455,-0.17928284445210135,-0.07074592244401841,0.9702346637860534,0.6330487386750508,0.0963253240367915,0.6985554404495549,-0.043422240619835274,-0.07740119801525008,0.6348365704265307,0.29765064531552815,-0.18589445133259158,0.3172795651242809,1.175488930217184,0.5420045024651355,1.0669956768998428,0.8532850564029174,0.4710782533958094,1.441748606258861,0.5811044083416721,0.11854824465940587,1.441748606258861,0.40076802002878903,0.5891253728275639,-0.23361698048364724,0.7625529809078455,0.16425944225837272,0.0963253240367915,0.18777532289148624,0.26644000266698437,0.4335112491477942,0.11854824465940587,-0.8521221082036453,-0.7613900327085731,-0.5540357738111193,0.40076802002878903,0.4710782533958094,1.5502418595762024,0.11854824465940587,-0.07074592244401841,-0.8521221082036453,-0.7169068318507483,-0.8521221082036453,-0.1936328820387634,-0.3996050718295171,-0.38154498003548737,0.0963253240367915,-0.8521221082036453,-0.07074592244401841,0.26644000266698437,-0.9683537922271584,0.40076802002878903,0.7561966193083739,0.4710782533958094,0.3040070069149995,0.9702346637860534,1.441748606258861,-0.10151873743699086,0.5891253728275639,-0.8521221082036453,0.0963253240367915,0.7755209493878069,-0.07074592244401841,0.9702346637860534,0.40076802002878903,-0.8521221082036453,0.11219188305993448,-0.17292648285262996,0.11854824465940587,1.0669956768998428,1.441748606258861,-0.18589445133259158,-0.07616546973884057,-0.019906359986721814,-0.37518861843601586,0.1354252299133279,0.4335112491477942,1.441748606258861,0.26644000266698437,0.0963253240367915,-0.8521221082036453,-0.37518861843601586,-0.07074592244401841,0.7755209493878069,0.7039749877443767],\"xaxis\":\"x\",\"y\":[-0.8203647406233364,-0.2130959981435285,0.08087215959714195,-0.3527523306962432,0.11034041452101843,-0.17563802547727161,-0.1492571570419978,-0.513046940530771,-0.8842035817248671,0.32771513699477073,0.23548364820200426,-0.4364535052638527,0.7858439820472483,0.32771513699477073,-0.12275977587855287,0.4146873408531522,0.3915539780963016,-0.1492571570419978,-0.5768857816323018,0.42311726624226514,-0.513046940530771,0.9988227205761092,-0.03856976751541691,-0.7972313778664857,-0.8203647406233364,-1.0238599142775817,-0.2735708208384652,-0.513046940530771,0.19045350108104955,-0.47895298627110844,-0.5768857816323018,0.32771513699477073,-0.1492571570419978,-0.9006175790664498,-0.7165421141850162,0.5555560424599569,-0.16567115438358043,0.3975367627428735,0.3915539780963016,0.6538416310679123,0.6988717781888668,1.06266156167764,-0.5002923463653837,0.09021896265030814,1.06266156167764,-0.3493883122896487,0.3915539780963016,0.9461385918817763,0.25189764554358707,-0.8842035817248671,-0.45657495713456303,0.47852618195468316,-0.2735708208384652,0.18805880444205622,-0.1492571570419978,-0.8203647406233364,-0.2130959981435285,1.0176314145566852,0.6988717781888668,-0.513046940530771,-0.513046940530771,0.1973126183794,0.6988717781888668,-0.3527523306962432,-0.8203647406233364,-0.7862707863636739,-0.07266372177507961,0.2750310083004376,-0.8842035817248671,-0.1492571570419978,-0.1492571570419978,-0.13044846306142155,-0.1365025628766102,-0.7888014524773729,0.9988227205761092,0.18805880444205622,-0.7735161921982866,1.0176314145566852,-0.9764350705176338,-0.019761073534840863,-0.1365025628766102,-0.8842035817248671,0.3915539780963016,-0.9897659600179194,0.3915539780963016,-0.33394363671566696,-0.5768857816323018,0.4953766045346214,-0.11525615635178064,-0.8203647406233364,0.7784771243419255,0.15405780375183897,1.1496337655360214,-0.08710065931803815,-0.6977334202044402,1.06266156167764,-0.17563802547727161,0.4146873408531522,-0.12275977587855287,0.32771513699477073,0.4043085722616889,-0.9600210731760506,0.18805880444205622,-0.10507981896047283,0.9988227205761092,0.18805880444205622,-0.8842035817248671,0.6538416310679123,-0.7096773510967553,0.3915539780963016,0.25788043019015877,-0.8203647406233364,-0.6824481599253537,0.03374697925410019,-0.20973197973693422,0.9988227205761092,-0.1492571570419978,-0.1365025628766102,-0.19428730416295242,-0.8842035817248671,-0.9600210731760506,0.2750310083004376,0.9988227205761092,-0.5768857816323018,-0.1492571570419978,-0.32707887362740584,-0.1492571570419978,1.1837277197956841,1.1392549969445582,-0.49423824655019494,-0.8203647406233364,-0.1492571570419978,-0.5768857816323018,0.03374697925410019,-0.1151632027823353,-0.8842035817248671,0.41036267207687765,-0.9600210731760506,-0.7165421141850162,0.4953766045346214,0.18805880444205622,1.0942248498236034,0.6538416310679123,-0.1492571570419978,-0.8203647406233364,-1.0238599142775817,-0.5768857816323018,0.4953766045346214,-0.8842035817248671,-0.1492571570419978,1.0176314145566852,-0.3527523306962432,0.9988227205761092,0.32771513699477073,0.18805880444205622,1.06266156167764,-0.5204137982360939,-0.7862707863636739,-0.513046940530771,-0.8026847837052561,-0.20973197973693422,0.18805880444205622,0.03374697925410019,-0.8203647406233364,-0.1492571570419978,-0.513046940530771,-0.5768857816323018,-1.0238599142775817,0.7220051409457175],\"yaxis\":\"y\",\"type\":\"scattergl\"},{\"hovertemplate\":\"color=-4<br>0=%{x}<br>1=%{y}<extra></extra>\",\"legendgroup\":\"-4\",\"marker\":{\"color\":\"#FECB52\",\"symbol\":\"circle\"},\"mode\":\"markers\",\"name\":\"-4\",\"showlegend\":true,\"x\":[1.259894271047908,0.7755209493878069,0.9308525392878569,1.5970801961589105,1.4353922446593894,0.7755209493878069,0.4710782533958094,1.441748606258861,0.9444076312768578,1.441748606258861,0.9244961776883854,1.1373059102668632,-0.6974361609410243,1.292637500166913,0.0963253240367915,-0.547679412211648,0.0963253240367915,0.2516569139368415,0.0963253240367915,0.7755209493878069,-0.37518861843601586,1.2212001278161513,0.4710782533958094,1.5502418595762024,-0.38060816573083806,0.0963253240367915,0.7755209493878069,1.5970801961589105,-0.11738529646013389,-0.11738529646013389,1.5502418595762024,0.5242433246428663,1.441748606258861,0.4710782533958094,0.11854824465940587,1.7055734494762522,0.7755209493878069,0.7171419187909316,1.5970801961589105,0.9308525392878569,0.5554539672914102,0.3040070069149995,1.441748606258861,1.1045626811478582,0.0963253240367915,0.7755209493878069,0.9648151164912312,0.4386321976289161,0.8001199851558605,0.9308525392878569,1.441748606258861,1.441748606258861,-0.07074592244401841,0.3944116584293177,0.7379539451397917,1.5970801961589105,1.5970801961589105,0.2795905535214984,0.40076802002878903,0.40076802002878903,0.40076802002878903,1.5970801961589105,0.3040070069149995,0.2582958093160328,1.0669956768998428,0.7379539451397917,0.7691645877883355,0.0963253240367915,1.441748606258861,0.8532850564029174,0.4710782533958094],\"xaxis\":\"x\",\"y\":[-0.43898795378592853,-1.0238599142775817,-1.0402739116191646,0.17164480710047322,0.20686749842263252,-1.0238599142775817,-0.9600210731760506,0.18805880444205622,0.38061778523500933,0.18805880444205622,-1.0214652176385883,0.25189764554358707,-0.1935113603472179,0.23548364820200426,-0.8203647406233364,-0.2130959981435285,-0.8203647406233364,-0.8367787379649192,-0.8203647406233364,-1.0238599142775817,-0.513046940530771,-0.3262549495327982,-0.9600210731760506,0.2750310083004376,-0.45657495713456303,-0.8203647406233364,-1.0238599142775817,0.17164480710047322,-0.743771305356418,-0.743771305356418,0.2750310083004376,-0.19697738557154687,0.18805880444205622,-0.9600210731760506,0.9988227205761092,0.25861701095885486,-1.0238599142775817,-0.9636804763522463,0.17164480710047322,-1.0402739116191646,-0.9284577850300875,-0.7165421141850162,0.18805880444205622,-0.4225739564443456,-0.8203647406233364,-1.0238599142775817,0.551848587930829,0.8035239389653281,-0.35873511534281494,-1.0402739116191646,0.18805880444205622,0.18805880444205622,-0.5768857816323018,-0.865394887744291,-0.2735708208384652,0.17164480710047322,0.17164480710047322,0.9357598232903128,-0.8842035817248671,-0.8842035817248671,-0.8842035817248671,0.17164480710047322,-0.7165421141850162,0.024400176200933994,0.32771513699477073,-0.2735708208384652,-1.0050512202970059,-0.8203647406233364,0.18805880444205622,0.4043085722616889,-0.9600210731760506],\"yaxis\":\"y\",\"type\":\"scattergl\"},{\"hovertemplate\":\"color=-1<br>0=%{x}<br>1=%{y}<extra></extra>\",\"legendgroup\":\"-1\",\"marker\":{\"color\":\"#636efa\",\"symbol\":\"circle\"},\"mode\":\"markers\",\"name\":\"-1\",\"showlegend\":true,\"x\":[-0.11738529646013389,1.5502418595762024,0.11219188305993448,0.7755209493878069,0.27387983455945575,0.36678906263337424,0.0963253240367915,-0.7031468799030669,1.0669956768998428,-0.2844565429409438,-0.547679412211648,-0.07074592244401841,-0.5149361830926428,-0.23361698048364724,-0.17292648285262996,-0.547679412211648,0.7755209493878069,0.0963253240367915,-0.547679412211648,0.4271548875483227,-0.6702674578346327,0.2910390384350381,0.28453633600527556,0.0963253240367915,1.7055734494762522,0.33039387443453333,-0.07074592244401841,1.4011307534842545,0.665791967794056,0.11854824465940587,0.40076802002878903,-0.2908129045404154,-0.11738529646013389,0.26644000266698437,1.0669956768998428,0.40076802002878903,1.1564647356198041,-0.07074592244401841,0.6357733847311802,0.0963253240367915,0.7625529809078455,0.3944116584293177,0.40076802002878903,1.0592572461936707,-0.5149361830926428,0.4335112491477942,0.4710782533958094,-0.17928284445210135,1.5502418595762024,0.40076802002878903,0.40076802002878903,1.441748606258861,-0.05116067132600712,0.15790308065890132,-0.07074592244401841,-0.37518861843601586,-0.07074592244401841,0.40076802002878903],\"xaxis\":\"x\",\"y\":[-0.743771305356418,0.2750310083004376,1.0176314145566852,-1.0238599142775817,0.9824087232345264,0.11137238005931556,-0.8203647406233364,-0.14686246040300435,0.32771513699477073,-0.5002923463653837,-0.2130959981435285,-0.5768857816323018,0.4613756038444042,-0.7096773510967553,-0.3527523306962432,-0.2130959981435285,-1.0238599142775817,-0.8203647406233364,-0.2130959981435285,-0.19092328575635803,-0.16019334990328993,0.6988717781888668,-0.8501096274652045,-0.8203647406233364,0.25861701095885486,-0.023261818216507423,-0.5768857816323018,0.3224558520603856,0.5592154456361523,0.9988227205761092,-0.8842035817248671,-0.4814836523848074,-0.743771305356418,0.03374697925410019,0.32771513699477073,-0.8842035817248671,-0.2472668176268865,-0.5768857816323018,-0.0494373699024064,-0.8203647406233364,0.3915539780963016,-0.865394887744291,-0.8842035817248671,0.4487812951128149,0.4613756038444042,-0.20973197973693422,-0.9600210731760506,-0.33394363671566696,0.2750310083004376,-0.8842035817248671,-0.8842035817248671,0.18805880444205622,0.27512396186988314,0.276689124170735,-0.5768857816323018,-0.513046940530771,-0.5768857816323018,-0.8842035817248671],\"yaxis\":\"y\",\"type\":\"scattergl\"}],                        {\"template\":{\"data\":{\"histogram2dcontour\":[{\"type\":\"histogram2dcontour\",\"colorbar\":{\"outlinewidth\":0,\"ticks\":\"\"},\"colorscale\":[[0.0,\"#0d0887\"],[0.1111111111111111,\"#46039f\"],[0.2222222222222222,\"#7201a8\"],[0.3333333333333333,\"#9c179e\"],[0.4444444444444444,\"#bd3786\"],[0.5555555555555556,\"#d8576b\"],[0.6666666666666666,\"#ed7953\"],[0.7777777777777778,\"#fb9f3a\"],[0.8888888888888888,\"#fdca26\"],[1.0,\"#f0f921\"]]}],\"choropleth\":[{\"type\":\"choropleth\",\"colorbar\":{\"outlinewidth\":0,\"ticks\":\"\"}}],\"histogram2d\":[{\"type\":\"histogram2d\",\"colorbar\":{\"outlinewidth\":0,\"ticks\":\"\"},\"colorscale\":[[0.0,\"#0d0887\"],[0.1111111111111111,\"#46039f\"],[0.2222222222222222,\"#7201a8\"],[0.3333333333333333,\"#9c179e\"],[0.4444444444444444,\"#bd3786\"],[0.5555555555555556,\"#d8576b\"],[0.6666666666666666,\"#ed7953\"],[0.7777777777777778,\"#fb9f3a\"],[0.8888888888888888,\"#fdca26\"],[1.0,\"#f0f921\"]]}],\"heatmap\":[{\"type\":\"heatmap\",\"colorbar\":{\"outlinewidth\":0,\"ticks\":\"\"},\"colorscale\":[[0.0,\"#0d0887\"],[0.1111111111111111,\"#46039f\"],[0.2222222222222222,\"#7201a8\"],[0.3333333333333333,\"#9c179e\"],[0.4444444444444444,\"#bd3786\"],[0.5555555555555556,\"#d8576b\"],[0.6666666666666666,\"#ed7953\"],[0.7777777777777778,\"#fb9f3a\"],[0.8888888888888888,\"#fdca26\"],[1.0,\"#f0f921\"]]}],\"heatmapgl\":[{\"type\":\"heatmapgl\",\"colorbar\":{\"outlinewidth\":0,\"ticks\":\"\"},\"colorscale\":[[0.0,\"#0d0887\"],[0.1111111111111111,\"#46039f\"],[0.2222222222222222,\"#7201a8\"],[0.3333333333333333,\"#9c179e\"],[0.4444444444444444,\"#bd3786\"],[0.5555555555555556,\"#d8576b\"],[0.6666666666666666,\"#ed7953\"],[0.7777777777777778,\"#fb9f3a\"],[0.8888888888888888,\"#fdca26\"],[1.0,\"#f0f921\"]]}],\"contourcarpet\":[{\"type\":\"contourcarpet\",\"colorbar\":{\"outlinewidth\":0,\"ticks\":\"\"}}],\"contour\":[{\"type\":\"contour\",\"colorbar\":{\"outlinewidth\":0,\"ticks\":\"\"},\"colorscale\":[[0.0,\"#0d0887\"],[0.1111111111111111,\"#46039f\"],[0.2222222222222222,\"#7201a8\"],[0.3333333333333333,\"#9c179e\"],[0.4444444444444444,\"#bd3786\"],[0.5555555555555556,\"#d8576b\"],[0.6666666666666666,\"#ed7953\"],[0.7777777777777778,\"#fb9f3a\"],[0.8888888888888888,\"#fdca26\"],[1.0,\"#f0f921\"]]}],\"surface\":[{\"type\":\"surface\",\"colorbar\":{\"outlinewidth\":0,\"ticks\":\"\"},\"colorscale\":[[0.0,\"#0d0887\"],[0.1111111111111111,\"#46039f\"],[0.2222222222222222,\"#7201a8\"],[0.3333333333333333,\"#9c179e\"],[0.4444444444444444,\"#bd3786\"],[0.5555555555555556,\"#d8576b\"],[0.6666666666666666,\"#ed7953\"],[0.7777777777777778,\"#fb9f3a\"],[0.8888888888888888,\"#fdca26\"],[1.0,\"#f0f921\"]]}],\"mesh3d\":[{\"type\":\"mesh3d\",\"colorbar\":{\"outlinewidth\":0,\"ticks\":\"\"}}],\"scatter\":[{\"fillpattern\":{\"fillmode\":\"overlay\",\"size\":10,\"solidity\":0.2},\"type\":\"scatter\"}],\"parcoords\":[{\"type\":\"parcoords\",\"line\":{\"colorbar\":{\"outlinewidth\":0,\"ticks\":\"\"}}}],\"scatterpolargl\":[{\"type\":\"scatterpolargl\",\"marker\":{\"colorbar\":{\"outlinewidth\":0,\"ticks\":\"\"}}}],\"bar\":[{\"error_x\":{\"color\":\"#2a3f5f\"},\"error_y\":{\"color\":\"#2a3f5f\"},\"marker\":{\"line\":{\"color\":\"#E5ECF6\",\"width\":0.5},\"pattern\":{\"fillmode\":\"overlay\",\"size\":10,\"solidity\":0.2}},\"type\":\"bar\"}],\"scattergeo\":[{\"type\":\"scattergeo\",\"marker\":{\"colorbar\":{\"outlinewidth\":0,\"ticks\":\"\"}}}],\"scatterpolar\":[{\"type\":\"scatterpolar\",\"marker\":{\"colorbar\":{\"outlinewidth\":0,\"ticks\":\"\"}}}],\"histogram\":[{\"marker\":{\"pattern\":{\"fillmode\":\"overlay\",\"size\":10,\"solidity\":0.2}},\"type\":\"histogram\"}],\"scattergl\":[{\"type\":\"scattergl\",\"marker\":{\"colorbar\":{\"outlinewidth\":0,\"ticks\":\"\"}}}],\"scatter3d\":[{\"type\":\"scatter3d\",\"line\":{\"colorbar\":{\"outlinewidth\":0,\"ticks\":\"\"}},\"marker\":{\"colorbar\":{\"outlinewidth\":0,\"ticks\":\"\"}}}],\"scattermapbox\":[{\"type\":\"scattermapbox\",\"marker\":{\"colorbar\":{\"outlinewidth\":0,\"ticks\":\"\"}}}],\"scatterternary\":[{\"type\":\"scatterternary\",\"marker\":{\"colorbar\":{\"outlinewidth\":0,\"ticks\":\"\"}}}],\"scattercarpet\":[{\"type\":\"scattercarpet\",\"marker\":{\"colorbar\":{\"outlinewidth\":0,\"ticks\":\"\"}}}],\"carpet\":[{\"aaxis\":{\"endlinecolor\":\"#2a3f5f\",\"gridcolor\":\"white\",\"linecolor\":\"white\",\"minorgridcolor\":\"white\",\"startlinecolor\":\"#2a3f5f\"},\"baxis\":{\"endlinecolor\":\"#2a3f5f\",\"gridcolor\":\"white\",\"linecolor\":\"white\",\"minorgridcolor\":\"white\",\"startlinecolor\":\"#2a3f5f\"},\"type\":\"carpet\"}],\"table\":[{\"cells\":{\"fill\":{\"color\":\"#EBF0F8\"},\"line\":{\"color\":\"white\"}},\"header\":{\"fill\":{\"color\":\"#C8D4E3\"},\"line\":{\"color\":\"white\"}},\"type\":\"table\"}],\"barpolar\":[{\"marker\":{\"line\":{\"color\":\"#E5ECF6\",\"width\":0.5},\"pattern\":{\"fillmode\":\"overlay\",\"size\":10,\"solidity\":0.2}},\"type\":\"barpolar\"}],\"pie\":[{\"automargin\":true,\"type\":\"pie\"}]},\"layout\":{\"autotypenumbers\":\"strict\",\"colorway\":[\"#636efa\",\"#EF553B\",\"#00cc96\",\"#ab63fa\",\"#FFA15A\",\"#19d3f3\",\"#FF6692\",\"#B6E880\",\"#FF97FF\",\"#FECB52\"],\"font\":{\"color\":\"#2a3f5f\"},\"hovermode\":\"closest\",\"hoverlabel\":{\"align\":\"left\"},\"paper_bgcolor\":\"white\",\"plot_bgcolor\":\"#E5ECF6\",\"polar\":{\"bgcolor\":\"#E5ECF6\",\"angularaxis\":{\"gridcolor\":\"white\",\"linecolor\":\"white\",\"ticks\":\"\"},\"radialaxis\":{\"gridcolor\":\"white\",\"linecolor\":\"white\",\"ticks\":\"\"}},\"ternary\":{\"bgcolor\":\"#E5ECF6\",\"aaxis\":{\"gridcolor\":\"white\",\"linecolor\":\"white\",\"ticks\":\"\"},\"baxis\":{\"gridcolor\":\"white\",\"linecolor\":\"white\",\"ticks\":\"\"},\"caxis\":{\"gridcolor\":\"white\",\"linecolor\":\"white\",\"ticks\":\"\"}},\"coloraxis\":{\"colorbar\":{\"outlinewidth\":0,\"ticks\":\"\"}},\"colorscale\":{\"sequential\":[[0.0,\"#0d0887\"],[0.1111111111111111,\"#46039f\"],[0.2222222222222222,\"#7201a8\"],[0.3333333333333333,\"#9c179e\"],[0.4444444444444444,\"#bd3786\"],[0.5555555555555556,\"#d8576b\"],[0.6666666666666666,\"#ed7953\"],[0.7777777777777778,\"#fb9f3a\"],[0.8888888888888888,\"#fdca26\"],[1.0,\"#f0f921\"]],\"sequentialminus\":[[0.0,\"#0d0887\"],[0.1111111111111111,\"#46039f\"],[0.2222222222222222,\"#7201a8\"],[0.3333333333333333,\"#9c179e\"],[0.4444444444444444,\"#bd3786\"],[0.5555555555555556,\"#d8576b\"],[0.6666666666666666,\"#ed7953\"],[0.7777777777777778,\"#fb9f3a\"],[0.8888888888888888,\"#fdca26\"],[1.0,\"#f0f921\"]],\"diverging\":[[0,\"#8e0152\"],[0.1,\"#c51b7d\"],[0.2,\"#de77ae\"],[0.3,\"#f1b6da\"],[0.4,\"#fde0ef\"],[0.5,\"#f7f7f7\"],[0.6,\"#e6f5d0\"],[0.7,\"#b8e186\"],[0.8,\"#7fbc41\"],[0.9,\"#4d9221\"],[1,\"#276419\"]]},\"xaxis\":{\"gridcolor\":\"white\",\"linecolor\":\"white\",\"ticks\":\"\",\"title\":{\"standoff\":15},\"zerolinecolor\":\"white\",\"automargin\":true,\"zerolinewidth\":2},\"yaxis\":{\"gridcolor\":\"white\",\"linecolor\":\"white\",\"ticks\":\"\",\"title\":{\"standoff\":15},\"zerolinecolor\":\"white\",\"automargin\":true,\"zerolinewidth\":2},\"scene\":{\"xaxis\":{\"backgroundcolor\":\"#E5ECF6\",\"gridcolor\":\"white\",\"linecolor\":\"white\",\"showbackground\":true,\"ticks\":\"\",\"zerolinecolor\":\"white\",\"gridwidth\":2},\"yaxis\":{\"backgroundcolor\":\"#E5ECF6\",\"gridcolor\":\"white\",\"linecolor\":\"white\",\"showbackground\":true,\"ticks\":\"\",\"zerolinecolor\":\"white\",\"gridwidth\":2},\"zaxis\":{\"backgroundcolor\":\"#E5ECF6\",\"gridcolor\":\"white\",\"linecolor\":\"white\",\"showbackground\":true,\"ticks\":\"\",\"zerolinecolor\":\"white\",\"gridwidth\":2}},\"shapedefaults\":{\"line\":{\"color\":\"#2a3f5f\"}},\"annotationdefaults\":{\"arrowcolor\":\"#2a3f5f\",\"arrowhead\":0,\"arrowwidth\":1},\"geo\":{\"bgcolor\":\"white\",\"landcolor\":\"#E5ECF6\",\"subunitcolor\":\"white\",\"showland\":true,\"showlakes\":true,\"lakecolor\":\"white\"},\"title\":{\"x\":0.05},\"mapbox\":{\"style\":\"light\"}}},\"xaxis\":{\"anchor\":\"y\",\"domain\":[0.0,1.0],\"title\":{\"text\":\"0\"}},\"yaxis\":{\"anchor\":\"x\",\"domain\":[0.0,1.0],\"title\":{\"text\":\"1\"}},\"legend\":{\"title\":{\"text\":\"color\"},\"tracegroupgap\":0},\"margin\":{\"t\":60},\"shapes\":[{\"type\":\"line\",\"x0\":0,\"x1\":-0.36106227034133703,\"y0\":0,\"y1\":0.22098612828250355},{\"type\":\"line\",\"x0\":0,\"x1\":-0.11759370584851722,\"y0\":0,\"y1\":0.009970774020561967},{\"type\":\"line\",\"x0\":0,\"x1\":-0.004812080509032581,\"y0\":0,\"y1\":0.011425445819168382},{\"type\":\"line\",\"x0\":0,\"x1\":0.08799314080370763,\"y0\":0,\"y1\":-0.02071056223027809},{\"type\":\"line\",\"x0\":0,\"x1\":0.23047819740497616,\"y0\":0,\"y1\":-0.03877925925730288},{\"type\":\"line\",\"x0\":0,\"x1\":-0.08213476553840417,\"y0\":0,\"y1\":-0.05283174918916736},{\"type\":\"line\",\"x0\":0,\"x1\":-0.2552664433504955,\"y0\":0,\"y1\":-0.3709322684563684},{\"type\":\"line\",\"x0\":0,\"x1\":-0.3569594046536194,\"y0\":0,\"y1\":0.18668190773105692},{\"type\":\"line\",\"x0\":0,\"x1\":0.24910088566901192,\"y0\":0,\"y1\":0.36525450093159106},{\"type\":\"line\",\"x0\":0,\"x1\":-0.16178952304286853,\"y0\":0,\"y1\":0.04652710845579639},{\"type\":\"line\",\"x0\":0,\"x1\":0.28370652595052315,\"y0\":0,\"y1\":-0.08483501632450464}],\"annotations\":[{\"ax\":0,\"ay\":0,\"text\":\"yummy\",\"x\":-0.36106227034133703,\"xanchor\":\"center\",\"y\":0.22098612828250355,\"yanchor\":\"bottom\"},{\"ax\":0,\"ay\":0,\"text\":\"convenient\",\"x\":-0.11759370584851722,\"xanchor\":\"center\",\"y\":0.009970774020561967,\"yanchor\":\"bottom\"},{\"ax\":0,\"ay\":0,\"text\":\"spicy\",\"x\":-0.004812080509032581,\"xanchor\":\"center\",\"y\":0.011425445819168382,\"yanchor\":\"bottom\"},{\"ax\":0,\"ay\":0,\"text\":\"fattening\",\"x\":0.08799314080370763,\"xanchor\":\"center\",\"y\":-0.02071056223027809,\"yanchor\":\"bottom\"},{\"ax\":0,\"ay\":0,\"text\":\"greasy\",\"x\":0.23047819740497616,\"xanchor\":\"center\",\"y\":-0.03877925925730288,\"yanchor\":\"bottom\"},{\"ax\":0,\"ay\":0,\"text\":\"fast\",\"x\":-0.08213476553840417,\"xanchor\":\"center\",\"y\":-0.05283174918916736,\"yanchor\":\"bottom\"},{\"ax\":0,\"ay\":0,\"text\":\"cheap\",\"x\":-0.2552664433504955,\"xanchor\":\"center\",\"y\":-0.3709322684563684,\"yanchor\":\"bottom\"},{\"ax\":0,\"ay\":0,\"text\":\"tasty\",\"x\":-0.3569594046536194,\"xanchor\":\"center\",\"y\":0.18668190773105692,\"yanchor\":\"bottom\"},{\"ax\":0,\"ay\":0,\"text\":\"expensive\",\"x\":0.24910088566901192,\"xanchor\":\"center\",\"y\":0.36525450093159106,\"yanchor\":\"bottom\"},{\"ax\":0,\"ay\":0,\"text\":\"healthy\",\"x\":-0.16178952304286853,\"xanchor\":\"center\",\"y\":0.04652710845579639,\"yanchor\":\"bottom\"},{\"ax\":0,\"ay\":0,\"text\":\"disgusting\",\"x\":0.28370652595052315,\"xanchor\":\"center\",\"y\":-0.08483501632450464,\"yanchor\":\"bottom\"}]},                        {\"responsive\": true}                    ).then(function(){\n",
       "                            \n",
       "var gd = document.getElementById('221c9637-a1bd-4686-9705-c7c570f40550');\n",
       "var x = new MutationObserver(function (mutations, observer) {{\n",
       "        var display = window.getComputedStyle(gd).display;\n",
       "        if (!display || display === 'none') {{\n",
       "            console.log([gd, 'removed!']);\n",
       "            Plotly.purge(gd);\n",
       "            observer.disconnect();\n",
       "        }}\n",
       "}});\n",
       "\n",
       "// Listen for the removal of the full notebook cells\n",
       "var notebookContainer = gd.closest('#notebook-container');\n",
       "if (notebookContainer) {{\n",
       "    x.observe(notebookContainer, {childList: true});\n",
       "}}\n",
       "\n",
       "// Listen for the clearing of the current output cell\n",
       "var outputEl = gd.closest('.output');\n",
       "if (outputEl) {{\n",
       "    x.observe(outputEl, {childList: true});\n",
       "}}\n",
       "\n",
       "                        })                };                });            </script>        </div>"
      ]
     },
     "metadata": {},
     "output_type": "display_data"
    }
   ],
   "source": [
    "import plotly.express as px\n",
    "from sklearn.decomposition import PCA\n",
    "\n",
    "pca = PCA(n_components=2)\n",
    "components = pca.fit_transform(X)\n",
    "\n",
    "loadings = pca.components_.T * np.sqrt(pca.explained_variance_)\n",
    "\n",
    "fig = px.scatter(components, x=0, y=1, color=df['Like'])\n",
    "\n",
    "for i, feature in enumerate(X.columns):\n",
    "    fig.add_shape(\n",
    "        type='line',\n",
    "        x0=0, y0=0,\n",
    "        x1=loadings[i, 0],\n",
    "        y1=loadings[i, 1]\n",
    "    )\n",
    "    fig.add_annotation(\n",
    "        x=loadings[i, 0],\n",
    "        y=loadings[i, 1],\n",
    "        ax=0, ay=0,\n",
    "        xanchor=\"center\",\n",
    "        yanchor=\"bottom\",\n",
    "        text=feature,\n",
    "    )\n",
    "fig.show()"
   ]
  },
  {
   "cell_type": "code",
   "execution_count": null,
   "id": "6657d4a0",
   "metadata": {
    "papermill": {
     "duration": 0.010989,
     "end_time": "2022-10-26T09:07:42.249341",
     "exception": false,
     "start_time": "2022-10-26T09:07:42.238352",
     "status": "completed"
    },
    "tags": []
   },
   "outputs": [],
   "source": []
  }
 ],
 "metadata": {
  "kernelspec": {
   "display_name": "Python 3",
   "language": "python",
   "name": "python3"
  },
  "language_info": {
   "codemirror_mode": {
    "name": "ipython",
    "version": 3
   },
   "file_extension": ".py",
   "mimetype": "text/x-python",
   "name": "python",
   "nbconvert_exporter": "python",
   "pygments_lexer": "ipython3",
   "version": "3.7.12"
  },
  "papermill": {
   "default_parameters": {},
   "duration": 41.021664,
   "end_time": "2022-10-26T09:07:43.283402",
   "environment_variables": {},
   "exception": null,
   "input_path": "__notebook__.ipynb",
   "output_path": "__notebook__.ipynb",
   "parameters": {},
   "start_time": "2022-10-26T09:07:02.261738",
   "version": "2.3.4"
  }
 },
 "nbformat": 4,
 "nbformat_minor": 5
}
